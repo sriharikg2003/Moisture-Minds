{
 "cells": [
  {
   "cell_type": "code",
   "execution_count": 1,
   "id": "cfa66b42",
   "metadata": {},
   "outputs": [],
   "source": [
    "import pandas as pd\n",
    "import numpy as np\n",
    "import matplotlib.pyplot as plt\n",
    "import math\n",
    "import tensorflow as tf\n",
    "import seaborn as sns\n",
    "from matplotlib.pylab import rcParams\n",
    "from sklearn import metrics\n",
    "from sklearn.ensemble import RandomForestRegressor\n",
    "from sklearn.cross_decomposition import PLSRegression \n",
    "from lightgbm import LGBMRegressor\n",
    "from sklearn.model_selection import train_test_split\n",
    "from sklearn.linear_model import LinearRegression\n",
    "\n",
    "%matplotlib inline"
   ]
  },
  {
   "cell_type": "code",
   "execution_count": 2,
   "id": "4e99c0b3",
   "metadata": {},
   "outputs": [],
   "source": [
    "df_1 = pd.read_csv('user1_data.csv')\n",
    "df_2 = pd.read_csv('user2_data.csv')"
   ]
  },
  {
   "cell_type": "code",
   "execution_count": 4,
   "id": "99d3d5ea",
   "metadata": {},
   "outputs": [
    {
     "name": "stdout",
     "output_type": "stream",
     "text": [
      "<class 'pandas.core.frame.DataFrame'>\n",
      "RangeIndex: 19341 entries, 0 to 19340\n",
      "Data columns (total 8 columns):\n",
      " #   Column  Non-Null Count  Dtype  \n",
      "---  ------  --------------  -----  \n",
      " 0   ttime   19341 non-null  object \n",
      " 1   pm1     19341 non-null  float64\n",
      " 2   pm2     19341 non-null  float64\n",
      " 3   pm3     19341 non-null  float64\n",
      " 4   am      19341 non-null  float64\n",
      " 5   sm      19341 non-null  float64\n",
      " 6   st      19341 non-null  float64\n",
      " 7   lum     19341 non-null  float64\n",
      "dtypes: float64(7), object(1)\n",
      "memory usage: 1.2+ MB\n"
     ]
    }
   ],
   "source": [
    "df_1.info()"
   ]
  },
  {
   "cell_type": "code",
   "execution_count": 5,
   "id": "8700d630",
   "metadata": {
    "scrolled": true
   },
   "outputs": [
    {
     "name": "stdout",
     "output_type": "stream",
     "text": [
      "<class 'pandas.core.frame.DataFrame'>\n",
      "RangeIndex: 20166 entries, 0 to 20165\n",
      "Data columns (total 10 columns):\n",
      " #   Column  Non-Null Count  Dtype  \n",
      "---  ------  --------------  -----  \n",
      " 0   ttime   20166 non-null  object \n",
      " 1   pm1     20166 non-null  float64\n",
      " 2   pm2     20166 non-null  float64\n",
      " 3   pm3     20166 non-null  float64\n",
      " 4   am      20166 non-null  float64\n",
      " 5   sm      20166 non-null  float64\n",
      " 6   lum     20166 non-null  float64\n",
      " 7   temp    20166 non-null  float64\n",
      " 8   humd    20166 non-null  float64\n",
      " 9   pres    20166 non-null  float64\n",
      "dtypes: float64(9), object(1)\n",
      "memory usage: 1.5+ MB\n"
     ]
    }
   ],
   "source": [
    "df_2.info()"
   ]
  },
  {
   "cell_type": "code",
   "execution_count": 6,
   "id": "1dad4aca",
   "metadata": {},
   "outputs": [],
   "source": [
    "# sns.heatmap(df_1.corr())"
   ]
  },
  {
   "cell_type": "code",
   "execution_count": 7,
   "id": "b08abc6f",
   "metadata": {},
   "outputs": [
    {
     "data": {
      "text/html": [
       "<div>\n",
       "<style scoped>\n",
       "    .dataframe tbody tr th:only-of-type {\n",
       "        vertical-align: middle;\n",
       "    }\n",
       "\n",
       "    .dataframe tbody tr th {\n",
       "        vertical-align: top;\n",
       "    }\n",
       "\n",
       "    .dataframe thead th {\n",
       "        text-align: right;\n",
       "    }\n",
       "</style>\n",
       "<table border=\"1\" class=\"dataframe\">\n",
       "  <thead>\n",
       "    <tr style=\"text-align: right;\">\n",
       "      <th></th>\n",
       "      <th>ttime</th>\n",
       "      <th>pm1</th>\n",
       "      <th>pm2</th>\n",
       "      <th>pm3</th>\n",
       "      <th>am</th>\n",
       "      <th>sm</th>\n",
       "      <th>st</th>\n",
       "      <th>lum</th>\n",
       "    </tr>\n",
       "  </thead>\n",
       "  <tbody>\n",
       "    <tr>\n",
       "      <th>0</th>\n",
       "      <td>2022-07-18 15:42:55</td>\n",
       "      <td>3.63</td>\n",
       "      <td>0.0</td>\n",
       "      <td>0.0</td>\n",
       "      <td>3.2</td>\n",
       "      <td>7813.0</td>\n",
       "      <td>25.65</td>\n",
       "      <td>15001.0</td>\n",
       "    </tr>\n",
       "    <tr>\n",
       "      <th>1</th>\n",
       "      <td>2022-07-18 15:47:55</td>\n",
       "      <td>4.19</td>\n",
       "      <td>0.0</td>\n",
       "      <td>0.0</td>\n",
       "      <td>4.8</td>\n",
       "      <td>7692.0</td>\n",
       "      <td>25.66</td>\n",
       "      <td>13863.0</td>\n",
       "    </tr>\n",
       "    <tr>\n",
       "      <th>2</th>\n",
       "      <td>2022-07-18 15:52:55</td>\n",
       "      <td>4.74</td>\n",
       "      <td>0.0</td>\n",
       "      <td>0.0</td>\n",
       "      <td>4.0</td>\n",
       "      <td>7813.0</td>\n",
       "      <td>25.67</td>\n",
       "      <td>13788.0</td>\n",
       "    </tr>\n",
       "    <tr>\n",
       "      <th>3</th>\n",
       "      <td>2022-07-18 15:57:55</td>\n",
       "      <td>5.30</td>\n",
       "      <td>0.0</td>\n",
       "      <td>0.0</td>\n",
       "      <td>4.8</td>\n",
       "      <td>7813.0</td>\n",
       "      <td>25.68</td>\n",
       "      <td>14383.0</td>\n",
       "    </tr>\n",
       "    <tr>\n",
       "      <th>4</th>\n",
       "      <td>2022-07-18 16:02:55</td>\n",
       "      <td>0.55</td>\n",
       "      <td>5.3</td>\n",
       "      <td>5.3</td>\n",
       "      <td>3.2</td>\n",
       "      <td>7813.0</td>\n",
       "      <td>25.69</td>\n",
       "      <td>14621.0</td>\n",
       "    </tr>\n",
       "  </tbody>\n",
       "</table>\n",
       "</div>"
      ],
      "text/plain": [
       "                 ttime   pm1  pm2  pm3   am      sm     st      lum\n",
       "0  2022-07-18 15:42:55  3.63  0.0  0.0  3.2  7813.0  25.65  15001.0\n",
       "1  2022-07-18 15:47:55  4.19  0.0  0.0  4.8  7692.0  25.66  13863.0\n",
       "2  2022-07-18 15:52:55  4.74  0.0  0.0  4.0  7813.0  25.67  13788.0\n",
       "3  2022-07-18 15:57:55  5.30  0.0  0.0  4.8  7813.0  25.68  14383.0\n",
       "4  2022-07-18 16:02:55  0.55  5.3  5.3  3.2  7813.0  25.69  14621.0"
      ]
     },
     "execution_count": 7,
     "metadata": {},
     "output_type": "execute_result"
    }
   ],
   "source": [
    "df_1.head()"
   ]
  },
  {
   "cell_type": "code",
   "execution_count": 8,
   "id": "52697035",
   "metadata": {
    "scrolled": false
   },
   "outputs": [],
   "source": [
    "## plots\n",
    "# sns.scatterplot(df_2['sm'])\n",
    "# sns.scatterplot(df_1['sm'])"
   ]
  },
  {
   "cell_type": "code",
   "execution_count": 9,
   "id": "24ddb513",
   "metadata": {},
   "outputs": [
    {
     "data": {
      "text/plain": [
       "Index(['ttime', 'pm1', 'pm2', 'pm3', 'am', 'sm', 'st', 'lum'], dtype='object')"
      ]
     },
     "execution_count": 9,
     "metadata": {},
     "output_type": "execute_result"
    }
   ],
   "source": [
    "# df_1.drop('ttime',axis=1,inplace=True)\n",
    "df_1.columns"
   ]
  },
  {
   "cell_type": "code",
   "execution_count": 68,
   "id": "cb103406",
   "metadata": {},
   "outputs": [],
   "source": [
    "X = df_1.drop(['sm','ttime'],axis=1)\n",
    "y = df_1[\"sm\"]"
   ]
  },
  {
   "cell_type": "code",
   "execution_count": 69,
   "id": "4dbbada7",
   "metadata": {},
   "outputs": [
    {
     "name": "stdout",
     "output_type": "stream",
     "text": [
      "Mean Absolute Error: 1746.1936176175564\n",
      "Root Mean Squared Error: 1931.6974186003265\n"
     ]
    }
   ],
   "source": [
    "# Linear Regression\n",
    "from sklearn.model_selection import train_test_split\n",
    "X_train, X_test, y_train, y_test = train_test_split(X, y, test_size=0.3, random_state=101)\n",
    "from sklearn.linear_model import LinearRegression\n",
    "lm = LinearRegression()\n",
    "lm.fit(X_train,y_train)\n",
    "predictions = lm.predict(X_test)\n",
    "\n",
    "## Plots\n",
    "# plt.scatter(y_test,predictions)\n",
    "\n",
    "#  Evaluation Metrics\n",
    "from sklearn import metrics\n",
    "print('Mean Absolute Error:', metrics.mean_absolute_error(y_test, predictions))\n",
    "print('Root Mean Squared Error:', np.sqrt(metrics.mean_squared_error(y_test, predictions)))\n"
   ]
  },
  {
   "cell_type": "code",
   "execution_count": 383,
   "id": "a6a1a2c4",
   "metadata": {},
   "outputs": [
    {
     "name": "stdout",
     "output_type": "stream",
     "text": [
      "Mean Absolute Error: 12.180156944162222\n",
      "Mean Squared Error: 15.210097486008056\n"
     ]
    }
   ],
   "source": [
    "# LGBM Regressor\n",
    "\n",
    "from lightgbm import LGBMRegressor\n",
    "\n",
    "horizon = 25\n",
    "    \n",
    "X_train, X_test = X.iloc[:-horizon,:], X.iloc[-horizon:,:]\n",
    "y_train, y_test = y.iloc[:-horizon], y.iloc[-horizon:]\n",
    "\n",
    "\n",
    "model = LGBMRegressor(random_state=42)\n",
    "model.fit(X_train,y_train)\n",
    "predictions=model.predict(X_test)\n",
    "\n",
    "print('Mean Absolute Error:', metrics.mean_absolute_error(y_test, predictions))\n",
    "print('Mean Squared Error:', metrics.mean_squared_error(y_test, predictions,squared=False))"
   ]
  },
  {
   "cell_type": "code",
   "execution_count": 316,
   "id": "a81ddca0",
   "metadata": {},
   "outputs": [
    {
     "data": {
      "text/plain": [
       "0        2538.963190\n",
       "1        2375.408312\n",
       "2        2496.408312\n",
       "3        2496.408312\n",
       "4         210.806313\n",
       "            ...     \n",
       "19336       5.952427\n",
       "19337       4.952427\n",
       "19338       5.952427\n",
       "19339       5.952427\n",
       "19340       4.937987\n",
       "Name: sm, Length: 19341, dtype: float64"
      ]
     },
     "execution_count": 316,
     "metadata": {},
     "output_type": "execute_result"
    }
   ],
   "source": [
    "# model.predict()\n",
    "# \n",
    "# \n",
    "abs(model.predict(X)-y)\n"
   ]
  },
  {
   "cell_type": "code",
   "execution_count": 317,
   "id": "1ab2f655",
   "metadata": {},
   "outputs": [
    {
     "name": "stdout",
     "output_type": "stream",
     "text": [
      "Mean Absolute Error: 1414.0793595542036\n",
      "Mean Squared Error: 1425.5525297354152\n"
     ]
    }
   ],
   "source": [
    "## PLSRegression\n",
    "\n",
    "from sklearn.cross_decomposition import PLSRegression \n",
    "model = PLSRegression(n_components=4)\n",
    "\n",
    "horizon = 25\n",
    "\n",
    "X_train, X_test = X.iloc[:-horizon,:], X.iloc[-horizon:,:]\n",
    "y_train, y_test = y.iloc[:-horizon], y.iloc[-horizon:]\n",
    "\n",
    "model.fit(X_train,y_train)\n",
    "predictions=model.predict(X_test)\n",
    "\n",
    "print('Mean Absolute Error:', metrics.mean_absolute_error(y_test, predictions))\n",
    "print('Mean Squared Error:', metrics.mean_squared_error(y_test, predictions,squared=False))"
   ]
  },
  {
   "cell_type": "code",
   "execution_count": 318,
   "id": "ec5f9745",
   "metadata": {
    "scrolled": true
   },
   "outputs": [
    {
     "name": "stdout",
     "output_type": "stream",
     "text": [
      "Mean Absolute Error: 384.6741005487055\n",
      "Mean Squared Error: 647.3186565621697\n"
     ]
    }
   ],
   "source": [
    "# Random Forest\n",
    "\n",
    "from sklearn.model_selection import train_test_split\n",
    "\n",
    "\n",
    "X = df_1.drop(['sm','ttime'], axis=1)\n",
    "y = df_1['sm']\n",
    "\n",
    "X_train, X_test, y_train, y_test = train_test_split(X, y, test_size=0.20, random_state=101)\n",
    "\n",
    "from sklearn.ensemble import RandomForestRegressor\n",
    "from sklearn import metrics\n",
    "\n",
    "model = RandomForestRegressor(max_depth=2, random_state=0)\n",
    "model.fit(X, y)\n",
    "predictions = model.predict(X_test)\n",
    "\n",
    "print('Mean Absolute Error:', metrics.mean_absolute_error(y_test, predictions))\n",
    "print('Mean Squared Error:', metrics.mean_squared_error(y_test, predictions,squared=False))\n"
   ]
  },
  {
   "cell_type": "code",
   "execution_count": 4,
   "id": "e407877c",
   "metadata": {},
   "outputs": [],
   "source": [
    "# # Neural Network\n",
    "# # import tensorflow as tf\n",
    "# # print(\"Importing ...\")\n",
    "# # print(\"Imported\")\n",
    "\n",
    "# # Normalize the data\n",
    "\n",
    "# X = df_2.drop(['sm','ttime'], axis=1)\n",
    "# y = df_2['sm']\n",
    "\n",
    "# X_train, X_test, y_train, y_test = train_test_split(X, y, test_size=0.30, random_state=101)\n",
    "\n",
    "\n",
    "# x_train = tf.keras.utils.normalize(X_train , axis=1)\n",
    "# x_test = tf.keras.utils.normalize(X_test , axis=1)\n",
    "\n",
    "# model = tf.keras.models.Sequential()\n",
    "\n",
    "# model.add(tf.keras.layers.Dense(15,activation='relu'))\n",
    "\n",
    "# model.add(tf.keras.layers.Dense(30,activation='relu'))\n",
    "\n",
    "# model.add(tf.keras.layers.Dense(25,activation='relu'))\n",
    "\n",
    "# model.add(tf.keras.layers.Dense(1,activation='relu'))\n",
    "\n",
    "# model.compile(loss='mse',optimizer='adam')\n",
    "\n",
    "# model.fit(x_train,y_train,epochs = 250)\n",
    "\n",
    "# model.save('soil.model')"
   ]
  },
  {
   "cell_type": "code",
   "execution_count": 319,
   "id": "5b9ba2a5",
   "metadata": {},
   "outputs": [],
   "source": [
    "model = tf.keras.models.load_model('soil.model')\n",
    "# loss, accuracy = model.evaluate(X_test,y_test)"
   ]
  },
  {
   "cell_type": "code",
   "execution_count": 3,
   "id": "ee4a0ddb",
   "metadata": {
    "scrolled": true
   },
   "outputs": [],
   "source": [
    "# model.evaluate(x_test,y_test)"
   ]
  },
  {
   "cell_type": "code",
   "execution_count": 113,
   "id": "cf17e06b",
   "metadata": {},
   "outputs": [],
   "source": [
    "# # LSTM \n",
    "# from sklearn.preprocessing import MinMaxScaler\n",
    "# from keras.models import Sequential\n",
    "# from keras.layers import Dense, LSTM\n",
    "\n",
    "\n",
    "\n",
    "\n",
    "# features = df_2.drop('ttime',axis=1)\n",
    "# # print(features.shape)\n",
    "\n",
    "# training_dataset_length = math.ceil(len(features) * .75)\n",
    "# # print(training_dataset_length)\n",
    "\n",
    "# #Scale all of the data to be values between 0 and 1\n",
    "# scaler = MinMaxScaler(feature_range=(0, 1))\n",
    "# scaled_data = scaler.fit_transform(features)\n",
    "\n",
    "# train_data = scaled_data[0:training_dataset_length , : ]\n",
    "\n",
    "# #Splitting the data\n",
    "# x_train=[]\n",
    "# y_train = []\n",
    "# for i in range(10, len(train_data)):\n",
    "#     x_train.append(train_data[i-1:i,4])\n",
    "#     y_train.append(train_data[i,4])\n",
    "    \n",
    "# #Convert to numpy arrays\n",
    "# x_train, y_train = np.array(x_train), np.array(y_train)\n",
    "# #Reshape the data into 3-D array\n",
    "# x_train = np.reshape(x_train, (x_train.shape[0],x_train.shape[1],1))    \n",
    "\n",
    "# from keras.layers import Dropout\n",
    "# # Initialising the RNN\n",
    "# model = Sequential()\n",
    "# model.add(LSTM(units = 50, return_sequences = True, input_shape = (x_train.shape[1], 1)))\n",
    "# model.add(Dropout(0.2))\n",
    "# # Adding a second LSTM layer and Dropout layer\n",
    "# model.add(LSTM(units = 50, return_sequences = True))\n",
    "# model.add(Dropout(0.2))\n",
    "# # Adding a third LSTM layer and Dropout layer\n",
    "# model.add(LSTM(units = 50, return_sequences = True))\n",
    "# model.add(Dropout(0.2))\n",
    "# # Adding a fourth LSTM layer and and Dropout layer\n",
    "# model.add(LSTM(units = 50))\n",
    "# model.add(Dropout(0.2))\n",
    "# # Adding the output layer\n",
    "# # For Full connection layer we use dense\n",
    "# # As the output is 1D so we use unit=1\n",
    "# model.add(Dense(units = 1))\n",
    "\n",
    "\n",
    "# #compile and fit the model on 30 epochs\n",
    "# model.compile(optimizer = 'adam', loss = 'mean_squared_error')\n",
    "# model.fit(x_train, y_train, epochs =30, batch_size = 1000)\n",
    "\n",
    "# # model.save(\"LSTM.model\")\n",
    "\n",
    "\n"
   ]
  },
  {
   "cell_type": "code",
   "execution_count": 114,
   "id": "6dd80957",
   "metadata": {},
   "outputs": [],
   "source": [
    "# #Test data set\n",
    "# # test_data = scaled_data[training_dataset_length - 10: , : ]\n",
    "# #splitting the x_test and y_test data sets\n",
    "# x_test = []\n",
    "# y_test = df_2.drop('ttime',axis=1)['sm'].to_numpy()[training_dataset_length : ]\n",
    "# for i in range(10,len(test_data)):\n",
    "#     x_test.append(test_data[i-1:i,4])\n",
    "# #Convert x_test to a numpy array\n",
    "# x_test = np.array(x_test)\n",
    "# #Reshape the data into 3-D array\n",
    "# x_test = np.reshape(x_test, (x_test.shape[0],x_test.shape[1],1))\n"
   ]
  },
  {
   "cell_type": "code",
   "execution_count": 115,
   "id": "3523cbdc",
   "metadata": {},
   "outputs": [],
   "source": [
    "\n",
    "# #check predicted values\n",
    "# predictions = model.predict(x_test)\n",
    "# # Undo scaling\n",
    "# # predictions = scaler.inverse_transform(predictions)\n",
    "# # predictions = predictions.reshape((predictions.shape[0], -1))\n",
    "# # #Calculate RMSE score\n",
    "\n",
    "# # rmse=np.sqrt(np.mean((([:,4]- y_test[:,4])**2)))\n",
    "\n",
    "\n",
    "\n",
    "# # rmse"
   ]
  },
  {
   "cell_type": "code",
   "execution_count": 57,
   "id": "7fea8091",
   "metadata": {},
   "outputs": [
    {
     "name": "stdout",
     "output_type": "stream",
     "text": [
      "Mean Squared Error: 368.7440618480433\n"
     ]
    }
   ],
   "source": [
    "predictions = scaler.inverse_transform(predictions)\n",
    "predictions = predictions.reshape((predictions.shape[0], -1))\n",
    "print('Mean Squared Error:', metrics.mean_squared_error(y_test, predictions,squared=False))\n"
   ]
  },
  {
   "cell_type": "code",
   "execution_count": 66,
   "id": "276abb2e",
   "metadata": {},
   "outputs": [
    {
     "data": {
      "text/plain": [
       "array([0.07863206], dtype=float32)"
      ]
     },
     "execution_count": 66,
     "metadata": {},
     "output_type": "execute_result"
    }
   ],
   "source": [
    "predictions[0]\n"
   ]
  },
  {
   "cell_type": "code",
   "execution_count": 141,
   "id": "a60484fd",
   "metadata": {},
   "outputs": [
    {
     "data": {
      "text/plain": [
       "Index(['pm1', 'pm2', 'pm3', 'am', 'sm', 'st', 'lum'], dtype='object')"
      ]
     },
     "execution_count": 141,
     "metadata": {},
     "output_type": "execute_result"
    }
   ],
   "source": [
    " df_1.columns[1:]\n",
    "\n",
    "# [0,1,2,3,5,6]"
   ]
  },
  {
   "cell_type": "code",
   "execution_count": 5,
   "id": "b041d824",
   "metadata": {},
   "outputs": [],
   "source": [
    "# LSTM \n",
    "\n",
    "\n",
    "from sklearn.preprocessing import MinMaxScaler\n",
    "from keras.models import Sequential\n",
    "from keras.layers import Dense, LSTM\n",
    "\n",
    "input_fetaure_index=[2,4,5]\n",
    "no_of_features= len(input_fetaure_index)\n",
    "target_index = 4\n",
    "in_days=10"
   ]
  },
  {
   "cell_type": "code",
   "execution_count": 6,
   "id": "5fee749b",
   "metadata": {},
   "outputs": [],
   "source": [
    "df = df_1.drop('ttime',axis=1)\n",
    "\n",
    "fraction = math.ceil(len(df) * .75)\n",
    "\n",
    "scaler = MinMaxScaler(feature_range=(0, 1))\n",
    "\n",
    "scaled_data = scaler.fit_transform(df)\n",
    "\n",
    "train_data = scaled_data[0:fraction , : ]"
   ]
  },
  {
   "cell_type": "code",
   "execution_count": 7,
   "id": "5b9917cd",
   "metadata": {},
   "outputs": [],
   "source": [
    "#Splitting the data\n",
    "x_train=[]\n",
    "y_train = []\n",
    "for i in range(in_days, len(train_data)):\n",
    "    x_train.append(train_data[i-in_days:i,input_fetaure_index])\n",
    "    y_train.append(train_data[i,target_index])"
   ]
  },
  {
   "cell_type": "code",
   "execution_count": 9,
   "id": "916e886b",
   "metadata": {},
   "outputs": [],
   "source": [
    "# x_train"
   ]
  },
  {
   "cell_type": "code",
   "execution_count": 10,
   "id": "8e33adce",
   "metadata": {},
   "outputs": [],
   "source": [
    "#Convert to numpy arrays\n",
    "x_train, y_train = np.array(x_train), np.array(y_train)\n",
    "#Reshape the data into 3-D array\n",
    "# x_train = np.reshape(x_train, (x_train.shape[0],x_train.shape[1],no_of_features))    "
   ]
  },
  {
   "cell_type": "code",
   "execution_count": 11,
   "id": "f92b8d38",
   "metadata": {},
   "outputs": [],
   "source": [
    "# x_train"
   ]
  },
  {
   "cell_type": "code",
   "execution_count": 12,
   "id": "074d0361",
   "metadata": {},
   "outputs": [],
   "source": [
    "# x_train"
   ]
  },
  {
   "cell_type": "code",
   "execution_count": 65,
   "id": "831c9050",
   "metadata": {},
   "outputs": [],
   "source": [
    "# from keras.layers import Dropout\n",
    "\n",
    "# model = Sequential()\n",
    "# model.add(LSTM(units = 50, return_sequences = True, input_shape = (x_train.shape[1], no_of_features)))\n",
    "# # model.add(Dropout(0.02))\n",
    "\n",
    "# model.add(LSTM(units = 70, return_sequences = True, input_shape = (x_train.shape[1], no_of_features)))\n",
    "# # model.add(Dropout(0.02))\n",
    "\n",
    "# model.add(LSTM(units = 50, return_sequences = True, input_shape = (x_train.shape[1], no_of_features)))\n",
    "# # model.add(Dropout(0.02))\n",
    "\n",
    "# model.add(LSTM(units = 50))\n",
    "# # model.add(Dropout(0.02))\n",
    "\n",
    "# model.add(Dense(1, activation='relu'))\n",
    "\n",
    "# model.compile(optimizer = 'adam', loss = 'mean_squared_error')"
   ]
  },
  {
   "cell_type": "code",
   "execution_count": 75,
   "id": "d47ee7f3",
   "metadata": {},
   "outputs": [
    {
     "name": "stdout",
     "output_type": "stream",
     "text": [
      "Epoch 1/100\n",
      "453/453 [==============================] - 17s 19ms/step - loss: 0.0109\n",
      "Epoch 2/100\n",
      "453/453 [==============================] - 8s 17ms/step - loss: 0.0033\n",
      "Epoch 3/100\n",
      "453/453 [==============================] - 10s 21ms/step - loss: 0.0028\n",
      "Epoch 4/100\n",
      "453/453 [==============================] - 10s 22ms/step - loss: 0.0025\n",
      "Epoch 5/100\n",
      "453/453 [==============================] - 10s 23ms/step - loss: 0.0023\n",
      "Epoch 6/100\n",
      "453/453 [==============================] - 9s 19ms/step - loss: 0.0020\n",
      "Epoch 7/100\n",
      "453/453 [==============================] - 8s 18ms/step - loss: 0.0019\n",
      "Epoch 8/100\n",
      "453/453 [==============================] - 9s 20ms/step - loss: 0.0016\n",
      "Epoch 9/100\n",
      "453/453 [==============================] - 9s 20ms/step - loss: 0.0015\n",
      "Epoch 10/100\n",
      "453/453 [==============================] - 9s 21ms/step - loss: 0.0013\n",
      "Epoch 11/100\n",
      "453/453 [==============================] - 9s 19ms/step - loss: 0.0012\n",
      "Epoch 12/100\n",
      "453/453 [==============================] - 9s 19ms/step - loss: 0.0011\n",
      "Epoch 13/100\n",
      "453/453 [==============================] - 9s 20ms/step - loss: 0.0011\n",
      "Epoch 14/100\n",
      "453/453 [==============================] - 9s 21ms/step - loss: 9.7520e-04\n",
      "Epoch 15/100\n",
      "453/453 [==============================] - 9s 20ms/step - loss: 9.4640e-04\n",
      "Epoch 16/100\n",
      "453/453 [==============================] - 9s 20ms/step - loss: 9.3971e-04\n",
      "Epoch 17/100\n",
      "453/453 [==============================] - 9s 21ms/step - loss: 8.4436e-04\n",
      "Epoch 18/100\n",
      "453/453 [==============================] - 10s 21ms/step - loss: 8.1155e-04\n",
      "Epoch 19/100\n",
      "453/453 [==============================] - 10s 21ms/step - loss: 8.2131e-04\n",
      "Epoch 20/100\n",
      "453/453 [==============================] - 10s 22ms/step - loss: 8.9356e-04\n",
      "Epoch 21/100\n",
      "453/453 [==============================] - 10s 23ms/step - loss: 8.0945e-04\n",
      "Epoch 22/100\n",
      "453/453 [==============================] - 11s 24ms/step - loss: 8.0421e-04\n",
      "Epoch 23/100\n",
      "453/453 [==============================] - 11s 24ms/step - loss: 7.5400e-04\n",
      "Epoch 24/100\n",
      "453/453 [==============================] - 10s 23ms/step - loss: 7.5693e-04\n",
      "Epoch 25/100\n",
      "453/453 [==============================] - 10s 22ms/step - loss: 7.3010e-04\n",
      "Epoch 26/100\n",
      "453/453 [==============================] - 10s 22ms/step - loss: 7.4443e-04\n",
      "Epoch 27/100\n",
      "453/453 [==============================] - 10s 22ms/step - loss: 6.7730e-04\n",
      "Epoch 28/100\n",
      "453/453 [==============================] - 10s 22ms/step - loss: 7.0061e-04\n",
      "Epoch 29/100\n",
      "453/453 [==============================] - 10s 22ms/step - loss: 7.7003e-04\n",
      "Epoch 30/100\n",
      "453/453 [==============================] - 10s 22ms/step - loss: 7.1329e-04\n",
      "Epoch 31/100\n",
      "453/453 [==============================] - 10s 22ms/step - loss: 6.9910e-04\n",
      "Epoch 32/100\n",
      "453/453 [==============================] - 10s 22ms/step - loss: 7.0265e-04\n",
      "Epoch 33/100\n",
      "453/453 [==============================] - 10s 22ms/step - loss: 6.5866e-04\n",
      "Epoch 34/100\n",
      "453/453 [==============================] - 10s 23ms/step - loss: 6.4935e-04\n",
      "Epoch 35/100\n",
      "453/453 [==============================] - 11s 24ms/step - loss: 6.3466e-04\n",
      "Epoch 36/100\n",
      "453/453 [==============================] - 10s 22ms/step - loss: 6.4403e-04\n",
      "Epoch 37/100\n",
      "453/453 [==============================] - 10s 23ms/step - loss: 6.4079e-04\n",
      "Epoch 38/100\n",
      "453/453 [==============================] - 10s 22ms/step - loss: 6.0356e-04\n",
      "Epoch 39/100\n",
      "453/453 [==============================] - 10s 22ms/step - loss: 5.7899e-04\n",
      "Epoch 40/100\n",
      "453/453 [==============================] - 10s 22ms/step - loss: 5.9081e-04\n",
      "Epoch 41/100\n",
      "453/453 [==============================] - 10s 22ms/step - loss: 5.8949e-04\n",
      "Epoch 42/100\n",
      "453/453 [==============================] - 10s 22ms/step - loss: 5.8925e-04\n",
      "Epoch 43/100\n",
      "453/453 [==============================] - 10s 22ms/step - loss: 6.1022e-04\n",
      "Epoch 44/100\n",
      "453/453 [==============================] - 10s 22ms/step - loss: 5.8307e-04\n",
      "Epoch 45/100\n",
      "453/453 [==============================] - 10s 22ms/step - loss: 5.5738e-04\n",
      "Epoch 46/100\n",
      "453/453 [==============================] - 11s 24ms/step - loss: 5.7056e-04\n",
      "Epoch 47/100\n",
      "453/453 [==============================] - 11s 24ms/step - loss: 5.6103e-04\n",
      "Epoch 48/100\n",
      "453/453 [==============================] - 10s 22ms/step - loss: 5.4422e-04\n",
      "Epoch 49/100\n",
      "453/453 [==============================] - 11s 23ms/step - loss: 5.3478e-04\n",
      "Epoch 50/100\n",
      "453/453 [==============================] - 10s 22ms/step - loss: 5.3617e-04\n",
      "Epoch 51/100\n",
      "453/453 [==============================] - 10s 22ms/step - loss: 5.3752e-04\n",
      "Epoch 52/100\n",
      "453/453 [==============================] - 11s 25ms/step - loss: 5.2921e-04\n",
      "Epoch 53/100\n",
      "453/453 [==============================] - 12s 26ms/step - loss: 5.3134e-04\n",
      "Epoch 54/100\n",
      "453/453 [==============================] - 10s 23ms/step - loss: 5.4374e-04\n",
      "Epoch 55/100\n",
      "453/453 [==============================] - 10s 22ms/step - loss: 5.3301e-04\n",
      "Epoch 56/100\n",
      "453/453 [==============================] - 10s 22ms/step - loss: 5.4776e-04\n",
      "Epoch 57/100\n",
      "453/453 [==============================] - 11s 25ms/step - loss: 5.3704e-04\n",
      "Epoch 58/100\n",
      "453/453 [==============================] - 10s 21ms/step - loss: 5.2112e-04\n",
      "Epoch 59/100\n",
      "453/453 [==============================] - 10s 21ms/step - loss: 5.1360e-04\n",
      "Epoch 60/100\n",
      "453/453 [==============================] - 10s 23ms/step - loss: 5.1785e-04\n",
      "Epoch 61/100\n",
      "453/453 [==============================] - 9s 21ms/step - loss: 5.2486e-04\n",
      "Epoch 62/100\n",
      "453/453 [==============================] - 11s 24ms/step - loss: 5.2603e-04\n",
      "Epoch 63/100\n",
      "453/453 [==============================] - 9s 20ms/step - loss: 5.1165e-04\n",
      "Epoch 64/100\n",
      "453/453 [==============================] - 9s 19ms/step - loss: 5.0260e-04\n",
      "Epoch 65/100\n",
      "453/453 [==============================] - 11s 24ms/step - loss: 5.3778e-04\n",
      "Epoch 66/100\n",
      "453/453 [==============================] - 8s 18ms/step - loss: 5.1133e-04\n",
      "Epoch 67/100\n",
      "453/453 [==============================] - 8s 18ms/step - loss: 5.1505e-04\n",
      "Epoch 68/100\n",
      "453/453 [==============================] - 8s 18ms/step - loss: 5.1505e-04\n",
      "Epoch 69/100\n",
      "453/453 [==============================] - 8s 18ms/step - loss: 5.2750e-04\n",
      "Epoch 70/100\n",
      "453/453 [==============================] - 9s 19ms/step - loss: 5.0348e-04\n",
      "Epoch 71/100\n",
      "453/453 [==============================] - 9s 19ms/step - loss: 5.1520e-04\n",
      "Epoch 72/100\n",
      "453/453 [==============================] - 10s 21ms/step - loss: 5.2455e-04\n",
      "Epoch 73/100\n",
      "453/453 [==============================] - 10s 22ms/step - loss: 5.1935e-04\n",
      "Epoch 74/100\n",
      "453/453 [==============================] - 10s 22ms/step - loss: 5.0227e-04\n",
      "Epoch 75/100\n",
      "453/453 [==============================] - 11s 24ms/step - loss: 5.2811e-04\n",
      "Epoch 76/100\n",
      "453/453 [==============================] - 10s 22ms/step - loss: 4.8421e-04\n",
      "Epoch 77/100\n",
      "453/453 [==============================] - 10s 22ms/step - loss: 5.1585e-04\n",
      "Epoch 78/100\n",
      "453/453 [==============================] - 10s 21ms/step - loss: 5.1101e-04\n",
      "Epoch 79/100\n",
      "453/453 [==============================] - 9s 21ms/step - loss: 5.0162e-04\n",
      "Epoch 80/100\n",
      "453/453 [==============================] - 9s 21ms/step - loss: 4.9386e-04\n",
      "Epoch 81/100\n",
      "453/453 [==============================] - 9s 21ms/step - loss: 5.1776e-04\n",
      "Epoch 82/100\n",
      "453/453 [==============================] - 9s 21ms/step - loss: 5.0587e-04\n",
      "Epoch 83/100\n",
      "453/453 [==============================] - 9s 21ms/step - loss: 5.0994e-04\n",
      "Epoch 84/100\n",
      "453/453 [==============================] - 10s 22ms/step - loss: 5.0149e-04\n",
      "Epoch 85/100\n",
      "453/453 [==============================] - 10s 21ms/step - loss: 5.0561e-04\n",
      "Epoch 86/100\n",
      "453/453 [==============================] - 9s 21ms/step - loss: 4.9976e-04\n",
      "Epoch 87/100\n",
      "453/453 [==============================] - 8s 19ms/step - loss: 5.0559e-04\n",
      "Epoch 88/100\n",
      "453/453 [==============================] - 9s 19ms/step - loss: 5.0620e-04\n",
      "Epoch 89/100\n",
      "453/453 [==============================] - 8s 19ms/step - loss: 4.9761e-04\n",
      "Epoch 90/100\n",
      "453/453 [==============================] - 8s 18ms/step - loss: 4.7931e-04\n",
      "Epoch 91/100\n",
      "453/453 [==============================] - 8s 18ms/step - loss: 5.1858e-04\n",
      "Epoch 92/100\n",
      "453/453 [==============================] - 8s 18ms/step - loss: 4.9615e-04\n",
      "Epoch 93/100\n",
      "453/453 [==============================] - 9s 20ms/step - loss: 4.6642e-04\n",
      "Epoch 94/100\n"
     ]
    },
    {
     "name": "stdout",
     "output_type": "stream",
     "text": [
      "453/453 [==============================] - 9s 20ms/step - loss: 5.0083e-04\n",
      "Epoch 95/100\n",
      "453/453 [==============================] - 9s 21ms/step - loss: 4.9360e-04\n",
      "Epoch 96/100\n",
      "453/453 [==============================] - 9s 20ms/step - loss: 4.9065e-04\n",
      "Epoch 97/100\n",
      "453/453 [==============================] - 9s 19ms/step - loss: 4.8653e-04\n",
      "Epoch 98/100\n",
      "453/453 [==============================] - 9s 20ms/step - loss: 4.9276e-04\n",
      "Epoch 99/100\n",
      "453/453 [==============================] - 9s 21ms/step - loss: 4.9824e-04\n",
      "Epoch 100/100\n",
      "453/453 [==============================] - 9s 20ms/step - loss: 4.7379e-04\n"
     ]
    },
    {
     "data": {
      "text/plain": [
       "<keras.callbacks.History at 0x20a5ec5f7c0>"
      ]
     },
     "execution_count": 75,
     "metadata": {},
     "output_type": "execute_result"
    }
   ],
   "source": [
    "model = Sequential()\n",
    "model.add(LSTM(units = 64, return_sequences = True, input_shape = (x_train.shape[1], no_of_features)))\n",
    "model.add(Dropout(0.2))\n",
    "\n",
    "model.add(LSTM(units = 128, return_sequences = True))\n",
    "model.add(Dropout(0.2))\n",
    "\n",
    "model.add(LSTM(units = 64, return_sequences = True))\n",
    "model.add(Dropout(0.2))\n",
    "\n",
    "model.add(LSTM(units = 64))\n",
    "model.add(Dropout(0.2))\n",
    "\n",
    "model.add(Dense(units = 1))\n",
    "\n",
    "model.compile(optimizer = 'adam', loss = 'mean_squared_error')\n",
    "model.fit(x_train, y_train, epochs = 32, batch_size = 32)"
   ]
  },
  {
   "cell_type": "code",
   "execution_count": 76,
   "id": "3d4cf4ca",
   "metadata": {},
   "outputs": [],
   "source": [
    "#Test data set\n",
    "test_data = scaled_data[fraction - in_days: , : ]\n",
    "#splitting the x_test and y_test data sets\n",
    "x_test = []\n",
    "y_test = df_1.drop('ttime',axis=1)['sm'].to_numpy()[fraction : ]\n",
    "for i in range(in_days,len(test_data)):\n",
    "    x_test.append(test_data[i-in_days:i,input_fetaure_index])\n",
    "# #Convert x_test to a numpy array\n",
    "x_test = np.array(x_test)\n",
    "# #Reshape the data into 3-D array\n",
    "x_test = np.reshape(x_test, (x_test.shape[0],x_test.shape[1],no_of_features))\n",
    "# print(x_test.shape, y_test.shape)\n"
   ]
  },
  {
   "cell_type": "code",
   "execution_count": 77,
   "id": "c04c6668",
   "metadata": {},
   "outputs": [
    {
     "data": {
      "text/plain": [
       "(4835, 10, 3)"
      ]
     },
     "execution_count": 77,
     "metadata": {},
     "output_type": "execute_result"
    }
   ],
   "source": [
    "x_test.shape"
   ]
  },
  {
   "cell_type": "code",
   "execution_count": 91,
   "id": "3c9561dc",
   "metadata": {},
   "outputs": [
    {
     "name": "stdout",
     "output_type": "stream",
     "text": [
      "152/152 [==============================] - 1s 7ms/step\n"
     ]
    }
   ],
   "source": [
    "\n",
    "#check predicted values\n",
    "predictions = model.predict(x_test)\n",
    "# # Undo scaling\n",
    "temp = df_1.drop('ttime', axis=1).values\n",
    "predictions = np.concatenate((temp[fraction:, :target_index],predictions, temp[fraction:, target_index+1:]), axis=1)\n",
    "predictions = scaler.inverse_transform(predictions)\n",
    "predictions = predictions[:, target_index]\n"
   ]
  },
  {
   "cell_type": "code",
   "execution_count": 92,
   "id": "6a53c652",
   "metadata": {},
   "outputs": [
    {
     "data": {
      "text/plain": [
       "4835"
      ]
     },
     "execution_count": 92,
     "metadata": {},
     "output_type": "execute_result"
    }
   ],
   "source": [
    "len(predictions)"
   ]
  },
  {
   "cell_type": "code",
   "execution_count": 93,
   "id": "d16b157e",
   "metadata": {},
   "outputs": [
    {
     "data": {
      "text/plain": [
       "4835"
      ]
     },
     "execution_count": 93,
     "metadata": {},
     "output_type": "execute_result"
    }
   ],
   "source": [
    "len(df_1)-fraction"
   ]
  },
  {
   "cell_type": "code",
   "execution_count": 94,
   "id": "62d40c1e",
   "metadata": {},
   "outputs": [
    {
     "name": "stdout",
     "output_type": "stream",
     "text": [
      "Mean Squared Error: 213.3731766051077\n"
     ]
    }
   ],
   "source": [
    "print('Mean Squared Error:', metrics.mean_squared_error(y_test, predictions,squared=False))\n"
   ]
  },
  {
   "cell_type": "code",
   "execution_count": 95,
   "id": "edb74b7f",
   "metadata": {},
   "outputs": [
    {
     "data": {
      "text/plain": [
       "[<matplotlib.lines.Line2D at 0x20a67d798b0>]"
      ]
     },
     "execution_count": 95,
     "metadata": {},
     "output_type": "execute_result"
    },
    {
     "data": {
      "image/png": "[encoded data removed]",
      "text/plain": [
       "<Figure size 640x480 with 1 Axes>"
      ]
     },
     "metadata": {},
     "output_type": "display_data"
    }
   ],
   "source": [
    "plt.plot(abs(y_test-predictions))"
   ]
  }
 ],
 "metadata": {
  "kernelspec": {
   "display_name": "Python 3 (ipykernel)",
   "language": "python",
   "name": "python3"
  },
  "language_info": {
   "codemirror_mode": {
    "name": "ipython",
    "version": 3
   },
   "file_extension": ".py",
   "mimetype": "text/x-python",
   "name": "python",
   "nbconvert_exporter": "python",
   "pygments_lexer": "ipython3",
   "version": "3.9.13"
  }
 },
 "nbformat": 4,
 "nbformat_minor": 5
}
