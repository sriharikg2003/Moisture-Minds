{
 "cells": [
  {
   "cell_type": "code",
   "execution_count": 1,
   "id": "cfa66b42",
   "metadata": {},
   "outputs": [],
   "source": [
    "import pandas as pd\n",
    "import numpy as np\n",
    "import matplotlib.pyplot as plt\n",
    "import math\n",
    "import tensorflow as tf\n",
    "import seaborn as sns\n",
    "from matplotlib.pylab import rcParams\n",
    "\n",
    "from sklearn import metrics\n",
    "from sklearn.ensemble import RandomForestRegressor\n",
    "from sklearn.cross_decomposition import PLSRegression \n",
    "from lightgbm import LGBMRegressor\n",
    "from sklearn.model_selection import train_test_split\n",
    "from sklearn.linear_model import LinearRegression\n",
    "\n",
    "%matplotlib inline"
   ]
  },
  {
   "cell_type": "code",
   "execution_count": 2,
   "id": "4e99c0b3",
   "metadata": {},
   "outputs": [],
   "source": [
    "df_1 = pd.read_csv('user1_data.csv')\n",
    "df_2 = pd.read_csv('user2_data.csv')"
   ]
  },
  {
   "cell_type": "code",
   "execution_count": 3,
   "id": "99d3d5ea",
   "metadata": {},
   "outputs": [
    {
     "name": "stdout",
     "output_type": "stream",
     "text": [
      "<class 'pandas.core.frame.DataFrame'>\n",
      "RangeIndex: 19341 entries, 0 to 19340\n",
      "Data columns (total 8 columns):\n",
      " #   Column  Non-Null Count  Dtype  \n",
      "---  ------  --------------  -----  \n",
      " 0   ttime   19341 non-null  object \n",
      " 1   pm1     19341 non-null  float64\n",
      " 2   pm2     19341 non-null  float64\n",
      " 3   pm3     19341 non-null  float64\n",
      " 4   am      19341 non-null  float64\n",
      " 5   sm      19341 non-null  float64\n",
      " 6   st      19341 non-null  float64\n",
      " 7   lum     19341 non-null  float64\n",
      "dtypes: float64(7), object(1)\n",
      "memory usage: 1.2+ MB\n"
     ]
    }
   ],
   "source": [
    "df_1.info()"
   ]
  },
  {
   "cell_type": "code",
   "execution_count": 4,
   "id": "8700d630",
   "metadata": {
    "scrolled": true
   },
   "outputs": [
    {
     "name": "stdout",
     "output_type": "stream",
     "text": [
      "<class 'pandas.core.frame.DataFrame'>\n",
      "RangeIndex: 20166 entries, 0 to 20165\n",
      "Data columns (total 10 columns):\n",
      " #   Column  Non-Null Count  Dtype  \n",
      "---  ------  --------------  -----  \n",
      " 0   ttime   20166 non-null  object \n",
      " 1   pm1     20166 non-null  float64\n",
      " 2   pm2     20166 non-null  float64\n",
      " 3   pm3     20166 non-null  float64\n",
      " 4   am      20166 non-null  float64\n",
      " 5   sm      20166 non-null  float64\n",
      " 6   lum     20166 non-null  float64\n",
      " 7   temp    20166 non-null  float64\n",
      " 8   humd    20166 non-null  float64\n",
      " 9   pres    20166 non-null  float64\n",
      "dtypes: float64(9), object(1)\n",
      "memory usage: 1.5+ MB\n"
     ]
    }
   ],
   "source": [
    "df_2.info()"
   ]
  },
  {
   "cell_type": "code",
   "execution_count": 5,
   "id": "1dad4aca",
   "metadata": {},
   "outputs": [],
   "source": [
    "# sns.heatmap(df_1.corr())"
   ]
  },
  {
   "cell_type": "code",
   "execution_count": 6,
   "id": "b08abc6f",
   "metadata": {},
   "outputs": [
    {
     "data": {
      "text/html": [
       "<div>\n",
       "<style scoped>\n",
       "    .dataframe tbody tr th:only-of-type {\n",
       "        vertical-align: middle;\n",
       "    }\n",
       "\n",
       "    .dataframe tbody tr th {\n",
       "        vertical-align: top;\n",
       "    }\n",
       "\n",
       "    .dataframe thead th {\n",
       "        text-align: right;\n",
       "    }\n",
       "</style>\n",
       "<table border=\"1\" class=\"dataframe\">\n",
       "  <thead>\n",
       "    <tr style=\"text-align: right;\">\n",
       "      <th></th>\n",
       "      <th>ttime</th>\n",
       "      <th>pm1</th>\n",
       "      <th>pm2</th>\n",
       "      <th>pm3</th>\n",
       "      <th>am</th>\n",
       "      <th>sm</th>\n",
       "      <th>st</th>\n",
       "      <th>lum</th>\n",
       "    </tr>\n",
       "  </thead>\n",
       "  <tbody>\n",
       "    <tr>\n",
       "      <th>0</th>\n",
       "      <td>2022-07-18 15:42:55</td>\n",
       "      <td>3.63</td>\n",
       "      <td>0.0</td>\n",
       "      <td>0.0</td>\n",
       "      <td>3.2</td>\n",
       "      <td>7813.0</td>\n",
       "      <td>25.65</td>\n",
       "      <td>15001.0</td>\n",
       "    </tr>\n",
       "    <tr>\n",
       "      <th>1</th>\n",
       "      <td>2022-07-18 15:47:55</td>\n",
       "      <td>4.19</td>\n",
       "      <td>0.0</td>\n",
       "      <td>0.0</td>\n",
       "      <td>4.8</td>\n",
       "      <td>7692.0</td>\n",
       "      <td>25.66</td>\n",
       "      <td>13863.0</td>\n",
       "    </tr>\n",
       "    <tr>\n",
       "      <th>2</th>\n",
       "      <td>2022-07-18 15:52:55</td>\n",
       "      <td>4.74</td>\n",
       "      <td>0.0</td>\n",
       "      <td>0.0</td>\n",
       "      <td>4.0</td>\n",
       "      <td>7813.0</td>\n",
       "      <td>25.67</td>\n",
       "      <td>13788.0</td>\n",
       "    </tr>\n",
       "    <tr>\n",
       "      <th>3</th>\n",
       "      <td>2022-07-18 15:57:55</td>\n",
       "      <td>5.30</td>\n",
       "      <td>0.0</td>\n",
       "      <td>0.0</td>\n",
       "      <td>4.8</td>\n",
       "      <td>7813.0</td>\n",
       "      <td>25.68</td>\n",
       "      <td>14383.0</td>\n",
       "    </tr>\n",
       "    <tr>\n",
       "      <th>4</th>\n",
       "      <td>2022-07-18 16:02:55</td>\n",
       "      <td>0.55</td>\n",
       "      <td>5.3</td>\n",
       "      <td>5.3</td>\n",
       "      <td>3.2</td>\n",
       "      <td>7813.0</td>\n",
       "      <td>25.69</td>\n",
       "      <td>14621.0</td>\n",
       "    </tr>\n",
       "  </tbody>\n",
       "</table>\n",
       "</div>"
      ],
      "text/plain": [
       "                 ttime   pm1  pm2  pm3   am      sm     st      lum\n",
       "0  2022-07-18 15:42:55  3.63  0.0  0.0  3.2  7813.0  25.65  15001.0\n",
       "1  2022-07-18 15:47:55  4.19  0.0  0.0  4.8  7692.0  25.66  13863.0\n",
       "2  2022-07-18 15:52:55  4.74  0.0  0.0  4.0  7813.0  25.67  13788.0\n",
       "3  2022-07-18 15:57:55  5.30  0.0  0.0  4.8  7813.0  25.68  14383.0\n",
       "4  2022-07-18 16:02:55  0.55  5.3  5.3  3.2  7813.0  25.69  14621.0"
      ]
     },
     "execution_count": 6,
     "metadata": {},
     "output_type": "execute_result"
    }
   ],
   "source": [
    "df_1.head()"
   ]
  },
  {
   "cell_type": "code",
   "execution_count": 7,
   "id": "52697035",
   "metadata": {
    "scrolled": false
   },
   "outputs": [],
   "source": [
    "## plots\n",
    "# sns.scatterplot(df_2['sm'])\n",
    "# sns.scatterplot(df_1['sm'])"
   ]
  },
  {
   "cell_type": "code",
   "execution_count": 8,
   "id": "24ddb513",
   "metadata": {},
   "outputs": [
    {
     "data": {
      "text/plain": [
       "Index(['ttime', 'pm1', 'pm2', 'pm3', 'am', 'sm', 'st', 'lum'], dtype='object')"
      ]
     },
     "execution_count": 8,
     "metadata": {},
     "output_type": "execute_result"
    }
   ],
   "source": [
    "# df_1.drop('ttime',axis=1,inplace=True)\n",
    "df_1.columns"
   ]
  },
  {
   "cell_type": "code",
   "execution_count": 9,
   "id": "cb103406",
   "metadata": {},
   "outputs": [],
   "source": [
    "X = df_1.drop(['sm','ttime'],axis=1)\n",
    "y = df_1[\"sm\"]"
   ]
  },
  {
   "cell_type": "code",
   "execution_count": 10,
   "id": "4dbbada7",
   "metadata": {},
   "outputs": [
    {
     "name": "stdout",
     "output_type": "stream",
     "text": [
      "Mean Absolute Error: 1746.1936176175564\n",
      "Root Mean Squared Error: 1931.6974186003265\n"
     ]
    }
   ],
   "source": [
    "# Linear Regression\n",
    "from sklearn.model_selection import train_test_split\n",
    "X_train, X_test, y_train, y_test = train_test_split(X, y, test_size=0.3, random_state=101)\n",
    "from sklearn.linear_model import LinearRegression\n",
    "lm = LinearRegression()\n",
    "lm.fit(X_train,y_train)\n",
    "predictions = lm.predict(X_test)\n",
    "\n",
    "## Plots\n",
    "# plt.scatter(y_test,predictions)\n",
    "\n",
    "#  Evaluation Metrics\n",
    "from sklearn import metrics\n",
    "print('Mean Absolute Error:', metrics.mean_absolute_error(y_test, predictions))\n",
    "print('Root Mean Squared Error:', np.sqrt(metrics.mean_squared_error(y_test, predictions)))\n"
   ]
  },
  {
   "cell_type": "code",
   "execution_count": 11,
   "id": "a6a1a2c4",
   "metadata": {},
   "outputs": [
    {
     "name": "stdout",
     "output_type": "stream",
     "text": [
      "Mean Absolute Error: 12.180156944162222\n",
      "Mean Squared Error: 15.210097486008056\n"
     ]
    }
   ],
   "source": [
    "# LGBM Regressor\n",
    "\n",
    "from lightgbm import LGBMRegressor\n",
    "\n",
    "horizon = 25\n",
    "    \n",
    "X_train, X_test = X.iloc[:-horizon,:], X.iloc[-horizon:,:]\n",
    "y_train, y_test = y.iloc[:-horizon], y.iloc[-horizon:]\n",
    "\n",
    "\n",
    "model = LGBMRegressor(random_state=42)\n",
    "model.fit(X_train,y_train)\n",
    "predictions=model.predict(X_test)\n",
    "\n",
    "print('Mean Absolute Error:', metrics.mean_absolute_error(y_test, predictions))\n",
    "print('Mean Squared Error:', metrics.mean_squared_error(y_test, predictions,squared=False))"
   ]
  },
  {
   "cell_type": "code",
   "execution_count": 12,
   "id": "a81ddca0",
   "metadata": {},
   "outputs": [
    {
     "data": {
      "text/plain": [
       "0        2538.963190\n",
       "1        2375.408312\n",
       "2        2496.408312\n",
       "3        2496.408312\n",
       "4         210.806313\n",
       "            ...     \n",
       "19336       5.952427\n",
       "19337       4.952427\n",
       "19338       5.952427\n",
       "19339       5.952427\n",
       "19340       4.937987\n",
       "Name: sm, Length: 19341, dtype: float64"
      ]
     },
     "execution_count": 12,
     "metadata": {},
     "output_type": "execute_result"
    }
   ],
   "source": [
    "# model.predict()\n",
    "# \n",
    "# \n",
    "abs(model.predict(X)-y)\n"
   ]
  },
  {
   "cell_type": "code",
   "execution_count": 13,
   "id": "1ab2f655",
   "metadata": {},
   "outputs": [
    {
     "name": "stdout",
     "output_type": "stream",
     "text": [
      "Mean Absolute Error: 1414.0793595542036\n",
      "Mean Squared Error: 1425.5525297354152\n"
     ]
    }
   ],
   "source": [
    "## PLSRegression\n",
    "\n",
    "from sklearn.cross_decomposition import PLSRegression \n",
    "model = PLSRegression(n_components=4)\n",
    "\n",
    "horizon = 25\n",
    "\n",
    "X_train, X_test = X.iloc[:-horizon,:], X.iloc[-horizon:,:]\n",
    "y_train, y_test = y.iloc[:-horizon], y.iloc[-horizon:]\n",
    "\n",
    "model.fit(X_train,y_train)\n",
    "predictions=model.predict(X_test)\n",
    "\n",
    "print('Mean Absolute Error:', metrics.mean_absolute_error(y_test, predictions))\n",
    "print('Mean Squared Error:', metrics.mean_squared_error(y_test, predictions,squared=False))"
   ]
  },
  {
   "cell_type": "code",
   "execution_count": 14,
   "id": "ec5f9745",
   "metadata": {
    "scrolled": true
   },
   "outputs": [
    {
     "name": "stdout",
     "output_type": "stream",
     "text": [
      "Mean Absolute Error: 384.6741005487055\n",
      "Mean Squared Error: 647.3186565621697\n"
     ]
    }
   ],
   "source": [
    "# Random Forest\n",
    "\n",
    "from sklearn.model_selection import train_test_split\n",
    "\n",
    "\n",
    "X = df_1.drop(['sm','ttime'], axis=1)\n",
    "y = df_1['sm']\n",
    "\n",
    "X_train, X_test, y_train, y_test = train_test_split(X, y, test_size=0.20, random_state=101)\n",
    "\n",
    "from sklearn.ensemble import RandomForestRegressor\n",
    "from sklearn import metrics\n",
    "\n",
    "model = RandomForestRegressor(max_depth=2, random_state=0)\n",
    "model.fit(X, y)\n",
    "predictions = model.predict(X_test)\n",
    "\n",
    "print('Mean Absolute Error:', metrics.mean_absolute_error(y_test, predictions))\n",
    "print('Mean Squared Error:', metrics.mean_squared_error(y_test, predictions,squared=False))\n"
   ]
  },
  {
   "cell_type": "code",
   "execution_count": 65,
   "id": "e407877c",
   "metadata": {},
   "outputs": [],
   "source": [
    "# # Neural Network\n",
    "# # import tensorflow as tf\n",
    "# # print(\"Importing ...\")\n",
    "# # print(\"Imported\")\n",
    "\n",
    "# # Normalize the data\n",
    "\n",
    "# X = df_2.drop(['sm','ttime'], axis=1)\n",
    "# y = df_2['sm']\n",
    "\n",
    "# X_train, X_test, y_train, y_test = train_test_split(X, y, test_size=0.30, random_state=101)\n",
    "\n",
    "\n",
    "# x_train = tf.keras.utils.normalize(X_train , axis=1)\n",
    "# x_test = tf.keras.utils.normalize(X_test , axis=1)\n",
    "\n",
    "# model = tf.keras.models.Sequential()\n",
    "\n",
    "# model.add(tf.keras.layers.Dense(15,activation='relu'))\n",
    "\n",
    "# model.add(tf.keras.layers.Dense(30,activation='relu'))\n",
    "\n",
    "# model.add(tf.keras.layers.Dense(25,activation='relu'))\n",
    "\n",
    "# model.add(tf.keras.layers.Dense(1,activation='relu'))\n",
    "\n",
    "# model.compile(loss='mse',optimizer='adam')\n",
    "\n",
    "# model.fit(x_train,y_train,epochs = 250)\n",
    "\n",
    "# model.save('soil.model')"
   ]
  },
  {
   "cell_type": "code",
   "execution_count": 319,
   "id": "5b9ba2a5",
   "metadata": {},
   "outputs": [],
   "source": [
    "model = tf.keras.models.load_model('soil.model')\n",
    "# loss, accuracy = model.evaluate(X_test,y_test)"
   ]
  },
  {
   "cell_type": "code",
   "execution_count": 435,
   "id": "ee4a0ddb",
   "metadata": {
    "scrolled": true
   },
   "outputs": [],
   "source": [
    "model.evaluate(x_test,y_test)"
   ]
  },
  {
   "cell_type": "code",
   "execution_count": 141,
   "id": "a60484fd",
   "metadata": {},
   "outputs": [
    {
     "data": {
      "text/plain": [
       "Index(['pm1', 'pm2', 'pm3', 'am', 'sm', 'st', 'lum'], dtype='object')"
      ]
     },
     "execution_count": 141,
     "metadata": {},
     "output_type": "execute_result"
    }
   ],
   "source": [
    " df_1.columns[1:]\n",
    "\n",
    "# [0,1,2,3,5,6]"
   ]
  },
  {
   "cell_type": "code",
   "execution_count": 38,
   "id": "b041d824",
   "metadata": {},
   "outputs": [],
   "source": [
    "# LSTM \n",
    "\n",
    "\n",
    "from sklearn.preprocessing import MinMaxScaler\n",
    "from keras.models import Sequential\n",
    "from keras.layers import Dense, LSTM\n",
    "\n",
    "input_fetaure_index=[2,4,6,5]\n",
    "no_of_features= len(input_fetaure_index)\n",
    "target_index = 5\n",
    "in_days=40"
   ]
  },
  {
   "cell_type": "code",
   "execution_count": 39,
   "id": "5fee749b",
   "metadata": {},
   "outputs": [],
   "source": [
    "df = df_2.drop('ttime',axis=1)\n",
    "\n",
    "fraction = math.ceil(len(df) * .75)\n",
    "\n",
    "scaler = MinMaxScaler(feature_range=(0, 1))\n",
    "\n",
    "scaled_data = scaler.fit_transform(df)\n",
    "\n",
    "train_data = scaled_data[0:fraction , : ]"
   ]
  },
  {
   "cell_type": "code",
   "execution_count": 40,
   "id": "5b9917cd",
   "metadata": {},
   "outputs": [],
   "source": [
    "#Splitting the data\n",
    "x_train=[]\n",
    "y_train = []\n",
    "for i in range(in_days, len(train_data)):\n",
    "    x_train.append(train_data[i-in_days:i,input_fetaure_index])\n",
    "    y_train.append(train_data[i,target_index])"
   ]
  },
  {
   "cell_type": "code",
   "execution_count": 41,
   "id": "916e886b",
   "metadata": {},
   "outputs": [],
   "source": [
    "# x_train"
   ]
  },
  {
   "cell_type": "code",
   "execution_count": 42,
   "id": "8e33adce",
   "metadata": {},
   "outputs": [],
   "source": [
    "#Convert to numpy arrays\n",
    "x_train, y_train = np.array(x_train), np.array(y_train)\n",
    "#Reshape the data into 3-D array\n",
    "# x_train = np.reshape(x_train, (x_train.shape[0],x_train.shape[1],no_of_features))    "
   ]
  },
  {
   "cell_type": "code",
   "execution_count": 43,
   "id": "831c9050",
   "metadata": {},
   "outputs": [],
   "source": [
    "from keras.layers import Dropout\n",
    "\n",
    "model = Sequential()\n",
    "model.add(LSTM(units = 50, return_sequences = True, input_shape = (x_train.shape[1], no_of_features)))\n",
    "model.add(Dropout(0.1))\n",
    "\n",
    "model.add(LSTM(units = 50, return_sequences = True, input_shape = (x_train.shape[1], no_of_features)))\n",
    "model.add(Dropout(0.1))\n",
    "\n",
    "# model.add(LSTM(units = 50, return_sequences = True, input_shape = (x_train.shape[1], no_of_features)))\n",
    "# model.add(Dropout(0.2))\n",
    "\n",
    "model.add(LSTM(units = 10))\n",
    "model.add(Dropout(0.1))\n",
    "\n",
    "model.add(Dense(1, activation='relu6'))\n",
    "\n"
   ]
  },
  {
   "cell_type": "code",
   "execution_count": 44,
   "id": "d47ee7f3",
   "metadata": {},
   "outputs": [],
   "source": [
    "model.compile(optimizer = 'adam', loss = 'mean_squared_error')"
   ]
  },
  {
   "cell_type": "code",
   "execution_count": 45,
   "id": "ff85a480",
   "metadata": {},
   "outputs": [
    {
     "name": "stdout",
     "output_type": "stream",
     "text": [
      "Epoch 1/30\n",
      "16/16 [==============================] - 9s 205ms/step - loss: 0.0461\n",
      "Epoch 2/30\n",
      "16/16 [==============================] - 3s 206ms/step - loss: 0.0335\n",
      "Epoch 3/30\n",
      "16/16 [==============================] - 3s 206ms/step - loss: 0.0292\n",
      "Epoch 4/30\n",
      "16/16 [==============================] - 3s 204ms/step - loss: 0.0267\n",
      "Epoch 5/30\n",
      "16/16 [==============================] - 3s 203ms/step - loss: 0.0252\n",
      "Epoch 6/30\n",
      "16/16 [==============================] - 3s 203ms/step - loss: 0.0240\n",
      "Epoch 7/30\n",
      "16/16 [==============================] - 4s 224ms/step - loss: 0.0231\n",
      "Epoch 8/30\n",
      "16/16 [==============================] - 4s 220ms/step - loss: 0.0222\n",
      "Epoch 9/30\n",
      "16/16 [==============================] - 4s 285ms/step - loss: 0.0220\n",
      "Epoch 10/30\n",
      "16/16 [==============================] - 6s 372ms/step - loss: 0.0212\n",
      "Epoch 11/30\n",
      "16/16 [==============================] - 4s 264ms/step - loss: 0.0208\n",
      "Epoch 12/30\n",
      "16/16 [==============================] - 4s 222ms/step - loss: 0.0206\n",
      "Epoch 13/30\n",
      "16/16 [==============================] - 6s 388ms/step - loss: 0.0202\n",
      "Epoch 14/30\n",
      "16/16 [==============================] - 4s 247ms/step - loss: 0.0206\n",
      "Epoch 15/30\n",
      "16/16 [==============================] - 4s 252ms/step - loss: 0.0199\n",
      "Epoch 16/30\n",
      "16/16 [==============================] - 4s 232ms/step - loss: 0.0196\n",
      "Epoch 17/30\n",
      "16/16 [==============================] - 3s 205ms/step - loss: 0.0194\n",
      "Epoch 18/30\n",
      "16/16 [==============================] - 3s 206ms/step - loss: 0.0194\n",
      "Epoch 19/30\n",
      "16/16 [==============================] - 3s 206ms/step - loss: 0.0191\n",
      "Epoch 20/30\n",
      "16/16 [==============================] - 3s 204ms/step - loss: 0.0194\n",
      "Epoch 21/30\n",
      "16/16 [==============================] - 4s 226ms/step - loss: 0.0188\n",
      "Epoch 22/30\n",
      "16/16 [==============================] - 3s 207ms/step - loss: 0.0187\n",
      "Epoch 23/30\n",
      "16/16 [==============================] - 3s 207ms/step - loss: 0.0185\n",
      "Epoch 24/30\n",
      "16/16 [==============================] - 4s 234ms/step - loss: 0.0188\n",
      "Epoch 25/30\n",
      "16/16 [==============================] - 4s 243ms/step - loss: 0.0184\n",
      "Epoch 26/30\n",
      "16/16 [==============================] - 4s 244ms/step - loss: 0.0185\n",
      "Epoch 27/30\n",
      "16/16 [==============================] - 4s 223ms/step - loss: 0.0184\n",
      "Epoch 28/30\n",
      "16/16 [==============================] - 3s 210ms/step - loss: 0.0183\n",
      "Epoch 29/30\n",
      "16/16 [==============================] - 4s 219ms/step - loss: 0.0184\n",
      "Epoch 30/30\n",
      "16/16 [==============================] - 4s 244ms/step - loss: 0.0183\n"
     ]
    },
    {
     "data": {
      "text/plain": [
       "<keras.callbacks.History at 0x25d3f6145b0>"
      ]
     },
     "execution_count": 45,
     "metadata": {},
     "output_type": "execute_result"
    }
   ],
   "source": [
    "model.fit(x_train, y_train, epochs =30, batch_size = 1000)"
   ]
  },
  {
   "cell_type": "code",
   "execution_count": 56,
   "id": "3d4cf4ca",
   "metadata": {},
   "outputs": [],
   "source": [
    "#Test data set\n",
    "test_data = scaled_data[fraction - in_days: , : ]\n",
    "#splitting the x_test and y_test data sets\n",
    "x_test = []\n",
    "y_test = df_2.drop('ttime',axis=1)['sm'].to_numpy()[fraction : ]\n",
    "for i in range(in_days,len(test_data)):\n",
    "    x_test.append(test_data[i-in_days:i,input_fetaure_index])\n",
    "# #Convert x_test to a numpy array\n",
    "x_test = np.array(x_test)\n",
    "# #Reshape the data into 3-D array\n",
    "x_test = np.reshape(x_test, (x_test.shape[0],x_test.shape[1],no_of_features))\n",
    "# print(x_test.shape, y_test.shape)\n"
   ]
  },
  {
   "cell_type": "code",
   "execution_count": 57,
   "id": "c04c6668",
   "metadata": {},
   "outputs": [
    {
     "data": {
      "text/plain": [
       "(5041, 40, 4)"
      ]
     },
     "execution_count": 57,
     "metadata": {},
     "output_type": "execute_result"
    }
   ],
   "source": [
    "x_test.shape"
   ]
  },
  {
   "cell_type": "code",
   "execution_count": 58,
   "id": "3c9561dc",
   "metadata": {},
   "outputs": [
    {
     "name": "stdout",
     "output_type": "stream",
     "text": [
      "158/158 [==============================] - 2s 12ms/step\n"
     ]
    }
   ],
   "source": [
    "\n",
    "#check predicted values\n",
    "predictions = model.predict(x_test)\n",
    "# # Undo scaling\n",
    "temp = df_2.drop('ttime', axis=1).values\n",
    "predictions = np.concatenate((temp[:len(predictions), :target_index],predictions, temp[:len(predictions), target_index+1:]), axis=1)\n",
    "predictions = scaler.inverse_transform(predictions)\n",
    "predictions = predictions[:, target_index]\n"
   ]
  },
  {
   "cell_type": "code",
   "execution_count": 62,
   "id": "62d40c1e",
   "metadata": {
    "scrolled": true
   },
   "outputs": [],
   "source": []
  },
  {
   "cell_type": "code",
   "execution_count": 59,
   "id": "edb74b7f",
   "metadata": {},
   "outputs": [
    {
     "data": {
      "text/plain": [
       "array([7089.21950591, 5772.2761395 , 4430.46763994, ..., 7599.87005353,\n",
       "       9123.95599973, 9867.73443872])"
      ]
     },
     "execution_count": 59,
     "metadata": {},
     "output_type": "execute_result"
    }
   ],
   "source": [
    "predictions"
   ]
  },
  {
   "cell_type": "code",
   "execution_count": 61,
   "id": "56af6ce0",
   "metadata": {},
   "outputs": [
    {
     "data": {
      "text/plain": [
       "array([469., 468., 468., ..., 327., 327., 328.])"
      ]
     },
     "execution_count": 61,
     "metadata": {},
     "output_type": "execute_result"
    }
   ],
   "source": [
    "y_test"
   ]
  },
  {
   "cell_type": "code",
   "execution_count": 62,
   "id": "9345ae24",
   "metadata": {},
   "outputs": [
    {
     "data": {
      "text/plain": [
       "[<matplotlib.lines.Line2D at 0x25d49739700>]"
      ]
     },
     "execution_count": 62,
     "metadata": {},
     "output_type": "execute_result"
    },
    {
     "data": {
      "image/png": "[encoded data removed]",
      "text/plain": [
       "<Figure size 640x480 with 1 Axes>"
      ]
     },
     "metadata": {},
     "output_type": "display_data"
    }
   ],
   "source": [
    "plt.plot(predictions)\n",
    "plt.plot(y_test)"
   ]
  },
  {
   "cell_type": "code",
   "execution_count": 63,
   "id": "89ccd332",
   "metadata": {},
   "outputs": [
    {
     "name": "stdout",
     "output_type": "stream",
     "text": [
      "Mean Squared Error: 3868.3769004470482\n"
     ]
    }
   ],
   "source": [
    "print('Mean Squared Error:', metrics.mean_squared_error(y_test, predictions,squared=False))"
   ]
  },
  {
   "cell_type": "code",
   "execution_count": 64,
   "id": "21b178c4",
   "metadata": {},
   "outputs": [
    {
     "data": {
      "text/plain": [
       "Index(['pm1', 'pm2', 'pm3', 'am', 'sm', 'lum', 'temp', 'humd', 'pres'], dtype='object')"
      ]
     },
     "execution_count": 64,
     "metadata": {},
     "output_type": "execute_result"
    }
   ],
   "source": [
    "\n",
    "\n",
    "df_2.columns[1:]"
   ]
  },
  {
   "cell_type": "code",
   "execution_count": null,
   "id": "1c76305e",
   "metadata": {},
   "outputs": [],
   "source": []
  }
 ],
 "metadata": {
  "kernelspec": {
   "display_name": "Python 3 (ipykernel)",
   "language": "python",
   "name": "python3"
  },
  "language_info": {
   "codemirror_mode": {
    "name": "ipython",
    "version": 3
   },
   "file_extension": ".py",
   "mimetype": "text/x-python",
   "name": "python",
   "nbconvert_exporter": "python",
   "pygments_lexer": "ipython3",
   "version": "3.9.13"
  }
 },
 "nbformat": 4,
 "nbformat_minor": 5
}
