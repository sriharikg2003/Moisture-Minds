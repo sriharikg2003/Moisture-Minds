{
 "cells": [
  {
   "cell_type": "code",
   "execution_count": 34,
   "metadata": {},
   "outputs": [],
   "source": [
    "import pandas as pd\n",
    "import numpy as np\n",
    "from pandas import DataFrame\n",
    "from pandas import concat\n",
    "from sklearn.preprocessing import MinMaxScaler\n",
    "from keras.models import Sequential\n",
    "from keras.layers import Dense\n",
    "from keras.layers import LSTM\n",
    "import matplotlib.pyplot as plt\n",
    "from sklearn.metrics import mean_squared_error"
   ]
  },
  {
   "cell_type": "code",
   "execution_count": 35,
   "metadata": {},
   "outputs": [],
   "source": [
    "def series_to_supervised(data, n_in=1, n_out=1, dropnan=True):\n",
    "    n_vars = 1 if type(data) is list else data.shape[1]\n",
    "    df = DataFrame(data)\n",
    "    cols, names = list(), list()\n",
    "    for i in range(n_in, 0, -1):\n",
    "        cols.append(df.shift(i))\n",
    "        names += [('var%d(t-%d)' % (j+1, i)) for j in range(n_vars)]\n",
    "    for i in range(0, n_out):\n",
    "        cols.append(df.shift(-i))\n",
    "        if i == 0:\n",
    "            names += [('var%d(t)' % (j+1)) for j in range(n_vars)]\n",
    "        else:\n",
    "            names += [('var%d(t+%d)' % (j+1, i)) for j in range(n_vars)]\n",
    "    agg = concat(cols, axis=1)\n",
    "    agg.columns = names\n",
    "    if dropnan:\n",
    "        agg.dropna(inplace=True)\n",
    "    return agg  "
   ]
  },
  {
   "cell_type": "code",
   "execution_count": 36,
   "metadata": {},
   "outputs": [
    {
     "name": "stdout",
     "output_type": "stream",
     "text": [
      "                 pm1       pm2        pm3        am          sm         st  \\\n",
      "timestamp                                                                    \n",
      "2022-12-01  1.093529  1.670000  38.550000  1.070588  524.014706  26.182206   \n",
      "2022-12-02  1.110000  1.670000  38.550000  1.298551  519.043478  26.363043   \n",
      "2022-12-03  1.101515  1.670000  38.550000  1.115152  514.954545  27.007424   \n",
      "2022-12-04  1.093284  1.653284  38.249104  1.408955  511.119403  27.090597   \n",
      "2022-12-05  1.101515  1.619091  37.913636  1.721212  505.712121  26.999545   \n",
      "\n",
      "                    lum  \n",
      "timestamp                \n",
      "2022-12-01  1995.264706  \n",
      "2022-12-02  2954.840580  \n",
      "2022-12-03  2084.606061  \n",
      "2022-12-04  2507.731343  \n",
      "2022-12-05  2873.121212  \n"
     ]
    },
    {
     "name": "stderr",
     "output_type": "stream",
     "text": [
      "/var/folders/qh/nmm9q9bs54x0q1jtj38dc8kw0000gn/T/ipykernel_43985/2426793946.py:8: FutureWarning: The default value of numeric_only in DataFrameGroupBy.mean is deprecated. In a future version, numeric_only will default to False. Either specify numeric_only or select only columns which should be valid for the function.\n",
      "  df_grouped = df.groupby(df['timestamp'].dt.date).mean()\n"
     ]
    },
    {
     "data": {
      "image/png": "[encoded data removed]",
      "text/plain": [
       "<Figure size 640x480 with 1 Axes>"
      ]
     },
     "metadata": {},
     "output_type": "display_data"
    }
   ],
   "source": [
    "df = pd.read_csv(\"data1.csv\")\n",
    "df['date'] = pd.to_datetime(df['ttime'])\n",
    "df = df.loc[(df['date'] > '2022-12-01') ]\n",
    "df = df.reset_index(drop = True)\n",
    "df.index.name = 'date'\n",
    "\n",
    "df['timestamp'] = pd.to_datetime(df['ttime'])\n",
    "df_grouped = df.groupby(df['timestamp'].dt.date).mean()\n",
    "\n",
    "\n",
    "print(df_grouped.head())\n",
    "feature_list = ['sm']\n",
    "feature_list_len = len(feature_list)\n",
    "values = df_grouped[feature_list].values\n",
    "plt.plot(values[:, 0])\n",
    "plt.show()\n"
   ]
  },
  {
   "cell_type": "code",
   "execution_count": 37,
   "metadata": {},
   "outputs": [],
   "source": [
    "values = values.astype('float32')"
   ]
  },
  {
   "cell_type": "code",
   "execution_count": 38,
   "metadata": {},
   "outputs": [],
   "source": [
    "scaler = MinMaxScaler(feature_range=(0, 1))\n",
    "scaled = scaler.fit_transform(values)"
   ]
  },
  {
   "cell_type": "code",
   "execution_count": 39,
   "metadata": {},
   "outputs": [],
   "source": [
    "reframed = series_to_supervised(scaled, 1, 1)"
   ]
  },
  {
   "cell_type": "code",
   "execution_count": 40,
   "metadata": {},
   "outputs": [],
   "source": [
    "values = reframed.values"
   ]
  },
  {
   "cell_type": "code",
   "execution_count": 41,
   "metadata": {},
   "outputs": [
    {
     "name": "stdout",
     "output_type": "stream",
     "text": [
      "(68, 1, 1) (68, 1) (18, 1, 1) (18, 1)\n"
     ]
    }
   ],
   "source": [
    "train = values[:int(0.8*(len(values))), :]\n",
    "test = values[int(0.8*(len(values))):, :]\n",
    "\n",
    "train_X, train_y = train[:, :-feature_list_len], train[:, -feature_list_len:]\n",
    "test_X, test_y = test[:, :-feature_list_len], test[:, -feature_list_len:]\n",
    "\n",
    "train_X = train_X.reshape((train_X.shape[0], 1, train_X.shape[1]))\n",
    "test_X = test_X.reshape((test_X.shape[0], 1, test_X.shape[1]))\n",
    "print(train_X.shape, train_y.shape, test_X.shape, test_y.shape)"
   ]
  },
  {
   "cell_type": "code",
   "execution_count": 42,
   "metadata": {},
   "outputs": [
    {
     "name": "stdout",
     "output_type": "stream",
     "text": [
      "Epoch 1/30\n",
      "1/1 - 1s - loss: 0.2974 - mae: 0.4499 - val_loss: 0.0014 - val_mae: 0.0307 - 1s/epoch - 1s/step\n",
      "Epoch 2/30\n",
      "1/1 - 0s - loss: 0.2949 - mae: 0.4474 - val_loss: 0.0013 - val_mae: 0.0295 - 15ms/epoch - 15ms/step\n",
      "Epoch 3/30\n",
      "1/1 - 0s - loss: 0.2926 - mae: 0.4451 - val_loss: 0.0012 - val_mae: 0.0284 - 16ms/epoch - 16ms/step\n",
      "Epoch 4/30\n",
      "1/1 - 0s - loss: 0.2904 - mae: 0.4429 - val_loss: 0.0011 - val_mae: 0.0272 - 15ms/epoch - 15ms/step\n",
      "Epoch 5/30\n",
      "1/1 - 0s - loss: 0.2882 - mae: 0.4407 - val_loss: 0.0010 - val_mae: 0.0261 - 14ms/epoch - 14ms/step\n",
      "Epoch 6/30\n",
      "1/1 - 0s - loss: 0.2860 - mae: 0.4385 - val_loss: 9.6685e-04 - val_mae: 0.0251 - 14ms/epoch - 14ms/step\n",
      "Epoch 7/30\n",
      "1/1 - 0s - loss: 0.2840 - mae: 0.4364 - val_loss: 8.9200e-04 - val_mae: 0.0241 - 15ms/epoch - 15ms/step\n",
      "Epoch 8/30\n",
      "1/1 - 0s - loss: 0.2819 - mae: 0.4342 - val_loss: 8.2283e-04 - val_mae: 0.0233 - 15ms/epoch - 15ms/step\n",
      "Epoch 9/30\n",
      "1/1 - 0s - loss: 0.2799 - mae: 0.4320 - val_loss: 7.5953e-04 - val_mae: 0.0225 - 14ms/epoch - 14ms/step\n",
      "Epoch 10/30\n",
      "1/1 - 0s - loss: 0.2779 - mae: 0.4299 - val_loss: 7.0211e-04 - val_mae: 0.0218 - 14ms/epoch - 14ms/step\n",
      "Epoch 11/30\n",
      "1/1 - 0s - loss: 0.2758 - mae: 0.4277 - val_loss: 6.5078e-04 - val_mae: 0.0212 - 15ms/epoch - 15ms/step\n",
      "Epoch 12/30\n",
      "1/1 - 0s - loss: 0.2738 - mae: 0.4255 - val_loss: 6.0571e-04 - val_mae: 0.0208 - 15ms/epoch - 15ms/step\n",
      "Epoch 13/30\n",
      "1/1 - 0s - loss: 0.2718 - mae: 0.4233 - val_loss: 5.6700e-04 - val_mae: 0.0203 - 13ms/epoch - 13ms/step\n",
      "Epoch 14/30\n",
      "1/1 - 0s - loss: 0.2697 - mae: 0.4211 - val_loss: 5.3488e-04 - val_mae: 0.0199 - 15ms/epoch - 15ms/step\n",
      "Epoch 15/30\n",
      "1/1 - 0s - loss: 0.2676 - mae: 0.4188 - val_loss: 5.0960e-04 - val_mae: 0.0196 - 14ms/epoch - 14ms/step\n",
      "Epoch 16/30\n",
      "1/1 - 0s - loss: 0.2655 - mae: 0.4165 - val_loss: 4.9137e-04 - val_mae: 0.0194 - 14ms/epoch - 14ms/step\n",
      "Epoch 17/30\n",
      "1/1 - 0s - loss: 0.2634 - mae: 0.4142 - val_loss: 4.8042e-04 - val_mae: 0.0192 - 15ms/epoch - 15ms/step\n",
      "Epoch 18/30\n",
      "1/1 - 0s - loss: 0.2613 - mae: 0.4118 - val_loss: 4.7697e-04 - val_mae: 0.0191 - 15ms/epoch - 15ms/step\n",
      "Epoch 19/30\n",
      "1/1 - 0s - loss: 0.2591 - mae: 0.4094 - val_loss: 4.8134e-04 - val_mae: 0.0192 - 17ms/epoch - 17ms/step\n",
      "Epoch 20/30\n",
      "1/1 - 0s - loss: 0.2570 - mae: 0.4070 - val_loss: 4.9384e-04 - val_mae: 0.0194 - 22ms/epoch - 22ms/step\n",
      "Epoch 21/30\n",
      "1/1 - 0s - loss: 0.2547 - mae: 0.4045 - val_loss: 5.1478e-04 - val_mae: 0.0197 - 18ms/epoch - 18ms/step\n",
      "Epoch 22/30\n",
      "1/1 - 0s - loss: 0.2525 - mae: 0.4020 - val_loss: 5.4442e-04 - val_mae: 0.0201 - 15ms/epoch - 15ms/step\n",
      "Epoch 23/30\n",
      "1/1 - 0s - loss: 0.2503 - mae: 0.3995 - val_loss: 5.8308e-04 - val_mae: 0.0206 - 13ms/epoch - 13ms/step\n",
      "Epoch 24/30\n",
      "1/1 - 0s - loss: 0.2480 - mae: 0.3969 - val_loss: 6.3107e-04 - val_mae: 0.0213 - 15ms/epoch - 15ms/step\n",
      "Epoch 25/30\n",
      "1/1 - 0s - loss: 0.2457 - mae: 0.3943 - val_loss: 6.8875e-04 - val_mae: 0.0220 - 15ms/epoch - 15ms/step\n",
      "Epoch 26/30\n",
      "1/1 - 0s - loss: 0.2433 - mae: 0.3916 - val_loss: 7.5649e-04 - val_mae: 0.0229 - 13ms/epoch - 13ms/step\n",
      "Epoch 27/30\n",
      "1/1 - 0s - loss: 0.2410 - mae: 0.3889 - val_loss: 8.3475e-04 - val_mae: 0.0239 - 15ms/epoch - 15ms/step\n",
      "Epoch 28/30\n",
      "1/1 - 0s - loss: 0.2385 - mae: 0.3861 - val_loss: 9.2399e-04 - val_mae: 0.0249 - 15ms/epoch - 15ms/step\n",
      "Epoch 29/30\n",
      "1/1 - 0s - loss: 0.2361 - mae: 0.3833 - val_loss: 0.0010 - val_mae: 0.0262 - 15ms/epoch - 15ms/step\n",
      "Epoch 30/30\n",
      "1/1 - 0s - loss: 0.2336 - mae: 0.3804 - val_loss: 0.0011 - val_mae: 0.0277 - 14ms/epoch - 14ms/step\n"
     ]
    },
    {
     "data": {
      "image/png": "[encoded data removed]",
      "text/plain": [
       "<Figure size 640x480 with 1 Axes>"
      ]
     },
     "metadata": {},
     "output_type": "display_data"
    }
   ],
   "source": [
    "model = Sequential()\n",
    "model.add(LSTM(100, activation='relu', return_sequences=True, input_shape=(train_X.shape[1], train_X.shape[2])))\n",
    "model.add(LSTM(25, activation='relu', return_sequences=True))\n",
    "\n",
    "model.add(Dense(feature_list_len))\n",
    "model.compile(loss='mse', optimizer='adam', metrics='mae')\n",
    "history = model.fit(train_X, train_y, epochs=30, batch_size=100, validation_data=(test_X, test_y), verbose=2, shuffle=False)\n",
    "plt.plot(history.history['loss'], label='train')\n",
    "plt.plot(history.history['val_loss'], label='test')\n",
    "plt.legend()\n",
    "plt.show()"
   ]
  },
  {
   "cell_type": "code",
   "execution_count": 43,
   "metadata": {},
   "outputs": [
    {
     "name": "stdout",
     "output_type": "stream",
     "text": [
      "1/1 [==============================] - 0s 153ms/step\n"
     ]
    }
   ],
   "source": [
    "yhat = model.predict(test_X)\n",
    "yhat = yhat.reshape((-1, feature_list_len))\n",
    "# # test_X = test_X.reshape((test_X.shape[0], test_X.shape[2]))\n",
    "# # # invert scaling for forecast\n",
    "# # inv_yhat = concatenate((yhat, test_X[:, 1:]), axis=1)\n",
    "inv_yhat = scaler.inverse_transform(yhat)\n",
    "inv_yhat = inv_yhat[:,0]\n",
    "\n",
    "# # test_y = test_y.reshape((len(test_y), 1))\n",
    "# # inv_y = concatenate((test_y, test_X[:, 1:]), axis=1)\n",
    "inv_y = scaler.inverse_transform(test_y)\n",
    "inv_y = inv_y[:,0]"
   ]
  },
  {
   "cell_type": "code",
   "execution_count": 44,
   "metadata": {},
   "outputs": [
    {
     "name": "stdout",
     "output_type": "stream",
     "text": [
      "Test RMSE: 7.942\n"
     ]
    }
   ],
   "source": [
    "rmse = mean_squared_error(inv_y, inv_yhat, squared=False)\n",
    "print('Test RMSE: %.3f' % rmse)"
   ]
  },
  {
   "cell_type": "code",
   "execution_count": 45,
   "metadata": {},
   "outputs": [],
   "source": [
    "pred = []*len(test_X)\n",
    "testing = train_X[-1]\n",
    "testing = testing.reshape((1, 1, feature_list_len))\n",
    "temp = model.predict(testing, verbose=0)\n",
    "testing = temp[0].reshape((1, 1, feature_list_len))\n",
    "for _ in range(len(test_X)):\n",
    "    # print(testing)\n",
    "    temp = model.predict(testing, verbose=0)\n",
    "    pred.append(temp[0])\n",
    "    testing = pred[-1].reshape((1, 1, feature_list_len))"
   ]
  },
  {
   "cell_type": "code",
   "execution_count": 46,
   "metadata": {},
   "outputs": [
    {
     "name": "stdout",
     "output_type": "stream",
     "text": [
      "Test RMSE: 8.208\n"
     ]
    }
   ],
   "source": [
    "pred = np.array(pred)\n",
    "pred = pred.reshape((-1, feature_list_len))\n",
    "pred = scaler.inverse_transform(pred)\n",
    "pred = pred[:,0]\n",
    "rmse = mean_squared_error(inv_y, pred, squared=False)\n",
    "print('Test RMSE: %.3f' % rmse)"
   ]
  },
  {
   "cell_type": "code",
   "execution_count": null,
   "metadata": {},
   "outputs": [],
   "source": []
  }
 ],
 "metadata": {
  "kernelspec": {
   "display_name": "hello",
   "language": "python",
   "name": "python3"
  },
  "language_info": {
   "codemirror_mode": {
    "name": "ipython",
    "version": 3
   },
   "file_extension": ".py",
   "mimetype": "text/x-python",
   "name": "python",
   "nbconvert_exporter": "python",
   "pygments_lexer": "ipython3",
   "version": "3.10.8"
  },
  "orig_nbformat": 4
 },
 "nbformat": 4,
 "nbformat_minor": 2
}
