{
 "cells": [
  {
   "cell_type": "code",
   "execution_count": 24,
   "metadata": {},
   "outputs": [],
   "source": [
    "from pandas import read_csv\n",
    "# from numpy import concatenate\n",
    "import numpy as np\n",
    "from datetime import datetime\n",
    "from pandas import DataFrame\n",
    "from pandas import concat\n",
    "from sklearn.preprocessing import MinMaxScaler\n",
    "from keras.models import Sequential\n",
    "from keras.layers import Dense\n",
    "from keras.layers import Dropout\n",
    "# from keras.layers import Bidirectional\n",
    "# from keras.layers import Reshape\n",
    "from keras.layers import LSTM\n",
    "# from keras.layers import TimeDistributed\n",
    "import matplotlib.pyplot as plt\n",
    "from sklearn.metrics import mean_squared_error\n",
    "# from keras.layers import RepeatVector\n",
    "from scipy.signal import savgol_filter"
   ]
  },
  {
   "cell_type": "code",
   "execution_count": 25,
   "metadata": {},
   "outputs": [],
   "source": [
    "def series_to_supervised(data, n_in=1, n_out=1, dropnan=True):\n",
    "    n_vars = 1 if type(data) is list else data.shape[1]\n",
    "    df = DataFrame(data)\n",
    "    cols, names = list(), list()\n",
    "    # input sequence (t-n, ... t-1)\n",
    "    for i in range(n_in, 0, -1):\n",
    "        cols.append(df.shift(i))\n",
    "        names += [('var%d(t-%d)' % (j+1, i)) for j in range(n_vars)]\n",
    "    # forecast sequence (t, t+1, ... t+n)\n",
    "    for i in range(0, n_out):\n",
    "        cols.append(df.shift(-i))\n",
    "        if i == 0:\n",
    "            names += [('var%d(t)' % (j+1)) for j in range(n_vars)]\n",
    "        else:\n",
    "            names += [('var%d(t+%d)' % (j+1, i)) for j in range(n_vars)]\n",
    "    # put it all together\n",
    "    agg = concat(cols, axis=1)\n",
    "    agg.columns = names\n",
    "    # drop rows with NaN values\n",
    "    if dropnan:\n",
    "        agg.dropna(inplace=True)\n",
    "    return agg  "
   ]
  },
  {
   "cell_type": "code",
   "execution_count": 26,
   "metadata": {},
   "outputs": [
    {
     "name": "stdout",
     "output_type": "stream",
     "text": [
      "                      pm1  pm2  pm3   am      sm     st      lum\n",
      "date                                                            \n",
      "2022-07-18 15:42:55  3.63  0.0  0.0  3.2  7813.0  25.65  15001.0\n",
      "2022-07-18 15:47:55  4.19  0.0  0.0  4.8  7692.0  25.66  13863.0\n",
      "2022-07-18 15:52:55  4.74  0.0  0.0  4.0  7813.0  25.67  13788.0\n",
      "2022-07-18 15:57:55  5.30  0.0  0.0  4.8  7813.0  25.68  14383.0\n",
      "2022-07-18 16:02:55  0.55  5.3  5.3  3.2  7813.0  25.69  14621.0\n"
     ]
    },
    {
     "data": {
      "image/png": "[encoded data removed]",
      "text/plain": [
       "<Figure size 640x480 with 1 Axes>"
      ]
     },
     "metadata": {},
     "output_type": "display_data"
    }
   ],
   "source": [
    "def parse(x):\n",
    "    return datetime.strptime(x, '%Y-%m-%d %H:%M:%S')\n",
    "\n",
    "dataset = read_csv('data1.csv',  parse_dates = ['ttime'], index_col=0, date_parser=parse)\n",
    "dataset.index.name = 'date'\n",
    "print(dataset.head())\n",
    "# dataset = read_csv('pollution.csv', header=0, index_col=0)\n",
    "feature_list = ['sm']\n",
    "feature_list_len = len(feature_list)\n",
    "values = dataset[feature_list].values\n",
    "# print(values[9920:])\n",
    "# print(values[:9266])\n",
    "# print(np.delete(values, np.s_[9266:9920], 1)[9300])\n",
    "values = np.delete(values, np.s_[9266:9920], 0)\n",
    "# values = values[11000:]\n",
    "values = savgol_filter(values[:,0], 100, 1).reshape((-1, 1))\n",
    "plt.plot(values[:, 0])\n",
    "plt.show()\n"
   ]
  },
  {
   "cell_type": "code",
   "execution_count": 27,
   "metadata": {},
   "outputs": [
    {
     "data": {
      "text/plain": [
       "array([[7761.4946 ],\n",
       "       [7762.9717 ],\n",
       "       [7764.448  ],\n",
       "       ...,\n",
       "       [ 288.00015],\n",
       "       [ 287.98373],\n",
       "       [ 287.96732]], dtype=float32)"
      ]
     },
     "execution_count": 27,
     "metadata": {},
     "output_type": "execute_result"
    }
   ],
   "source": [
    "values = values.astype('float32')\n",
    "values"
   ]
  },
  {
   "cell_type": "code",
   "execution_count": 28,
   "metadata": {},
   "outputs": [
    {
     "data": {
      "text/plain": [
       "array([[9.8517716e-01],\n",
       "       [9.8537183e-01],\n",
       "       [9.8556650e-01],\n",
       "       ...,\n",
       "       [4.3287873e-06],\n",
       "       [2.1643937e-06],\n",
       "       [0.0000000e+00]], dtype=float32)"
      ]
     },
     "execution_count": 28,
     "metadata": {},
     "output_type": "execute_result"
    }
   ],
   "source": [
    "scaler = MinMaxScaler(feature_range=(0, 1))\n",
    "scaled = scaler.fit_transform(values)\n",
    "scaled"
   ]
  },
  {
   "cell_type": "code",
   "execution_count": 29,
   "metadata": {},
   "outputs": [
    {
     "name": "stdout",
     "output_type": "stream",
     "text": [
      "   var1(t-1)   var1(t)\n",
      "1   0.985177  0.985372\n",
      "2   0.985372  0.985566\n",
      "3   0.985566  0.985761\n",
      "4   0.985761  0.985956\n",
      "5   0.985956  0.986151\n"
     ]
    }
   ],
   "source": [
    "reframed = series_to_supervised(scaled, 1, 1)\n",
    "# reframed.drop(reframed.columns[[-1]], axis=1, inplace=True)\n",
    "print(reframed.head())"
   ]
  },
  {
   "cell_type": "code",
   "execution_count": 30,
   "metadata": {},
   "outputs": [
    {
     "data": {
      "text/plain": [
       "18686"
      ]
     },
     "execution_count": 30,
     "metadata": {},
     "output_type": "execute_result"
    }
   ],
   "source": [
    "values = reframed.values\n",
    "len(values)"
   ]
  },
  {
   "cell_type": "code",
   "execution_count": 31,
   "metadata": {},
   "outputs": [
    {
     "name": "stdout",
     "output_type": "stream",
     "text": [
      "(15883, 1, 1) (15883, 1) (2803, 1, 1) (2803, 1)\n"
     ]
    }
   ],
   "source": [
    "train = values[:int(0.85*(len(values))), :]\n",
    "test = values[int(0.85*(len(values))):, :]\n",
    "\n",
    "train_X, train_y = train[:, :-feature_list_len], train[:, -feature_list_len:]\n",
    "test_X, test_y = test[:, :-feature_list_len], test[:, -feature_list_len:]\n",
    "\n",
    "train_X = train_X.reshape((train_X.shape[0], 1, train_X.shape[1]))\n",
    "test_X = test_X.reshape((test_X.shape[0], 1, test_X.shape[1]))\n",
    "print(train_X.shape, train_y.shape, test_X.shape, test_y.shape)"
   ]
  },
  {
   "cell_type": "code",
   "execution_count": 32,
   "metadata": {},
   "outputs": [
    {
     "name": "stdout",
     "output_type": "stream",
     "text": [
      "Epoch 1/100\n",
      "221/221 - 5s - loss: 0.1112 - val_loss: 0.0056 - 5s/epoch - 24ms/step\n",
      "Epoch 2/100\n",
      "221/221 - 1s - loss: 0.0752 - val_loss: 0.0086 - 960ms/epoch - 4ms/step\n",
      "Epoch 3/100\n",
      "221/221 - 1s - loss: 0.0625 - val_loss: 2.6365e-05 - 949ms/epoch - 4ms/step\n",
      "Epoch 4/100\n",
      "221/221 - 1s - loss: 0.0314 - val_loss: 3.5137e-04 - 942ms/epoch - 4ms/step\n",
      "Epoch 5/100\n",
      "221/221 - 1s - loss: 0.0108 - val_loss: 2.4701e-05 - 942ms/epoch - 4ms/step\n",
      "Epoch 6/100\n",
      "221/221 - 1s - loss: 0.0079 - val_loss: 7.2188e-05 - 950ms/epoch - 4ms/step\n",
      "Epoch 7/100\n",
      "221/221 - 1s - loss: 0.0074 - val_loss: 5.8913e-06 - 947ms/epoch - 4ms/step\n",
      "Epoch 8/100\n",
      "221/221 - 1s - loss: 0.0071 - val_loss: 4.9239e-05 - 943ms/epoch - 4ms/step\n",
      "Epoch 9/100\n",
      "221/221 - 1s - loss: 0.0070 - val_loss: 3.1904e-05 - 945ms/epoch - 4ms/step\n",
      "Epoch 10/100\n",
      "221/221 - 1s - loss: 0.0070 - val_loss: 1.0473e-04 - 953ms/epoch - 4ms/step\n",
      "Epoch 11/100\n",
      "221/221 - 1s - loss: 0.0069 - val_loss: 3.1870e-06 - 947ms/epoch - 4ms/step\n",
      "Epoch 12/100\n",
      "221/221 - 1s - loss: 0.0069 - val_loss: 1.2516e-04 - 954ms/epoch - 4ms/step\n",
      "Epoch 13/100\n",
      "221/221 - 1s - loss: 0.0068 - val_loss: 1.4656e-04 - 951ms/epoch - 4ms/step\n",
      "Epoch 14/100\n",
      "221/221 - 1s - loss: 0.0072 - val_loss: 1.4254e-04 - 953ms/epoch - 4ms/step\n",
      "Epoch 15/100\n",
      "221/221 - 1s - loss: 0.0073 - val_loss: 2.1832e-04 - 949ms/epoch - 4ms/step\n",
      "Epoch 16/100\n",
      "221/221 - 1s - loss: 0.0070 - val_loss: 2.6296e-04 - 946ms/epoch - 4ms/step\n",
      "Epoch 17/100\n",
      "221/221 - 1s - loss: 0.0071 - val_loss: 2.9338e-04 - 1s/epoch - 5ms/step\n",
      "Epoch 18/100\n",
      "221/221 - 1s - loss: 0.0069 - val_loss: 2.7078e-04 - 1s/epoch - 5ms/step\n",
      "Epoch 19/100\n",
      "221/221 - 1s - loss: 0.0064 - val_loss: 2.2924e-04 - 1s/epoch - 5ms/step\n",
      "Epoch 20/100\n",
      "221/221 - 1s - loss: 0.0067 - val_loss: 2.6625e-04 - 970ms/epoch - 4ms/step\n",
      "Epoch 21/100\n",
      "221/221 - 1s - loss: 0.0069 - val_loss: 5.7527e-04 - 937ms/epoch - 4ms/step\n",
      "Epoch 22/100\n",
      "221/221 - 1s - loss: 0.0071 - val_loss: 3.0863e-04 - 945ms/epoch - 4ms/step\n",
      "Epoch 23/100\n",
      "221/221 - 1s - loss: 0.0072 - val_loss: 1.4986e-04 - 944ms/epoch - 4ms/step\n",
      "Epoch 24/100\n",
      "221/221 - 1s - loss: 0.0065 - val_loss: 1.8668e-04 - 948ms/epoch - 4ms/step\n",
      "Epoch 25/100\n",
      "221/221 - 1s - loss: 0.0063 - val_loss: 1.9642e-04 - 946ms/epoch - 4ms/step\n",
      "Epoch 26/100\n",
      "221/221 - 1s - loss: 0.0065 - val_loss: 2.4153e-04 - 949ms/epoch - 4ms/step\n",
      "Epoch 27/100\n",
      "221/221 - 1s - loss: 0.0073 - val_loss: 3.4194e-05 - 949ms/epoch - 4ms/step\n",
      "Epoch 28/100\n",
      "221/221 - 1s - loss: 0.0074 - val_loss: 5.4567e-04 - 952ms/epoch - 4ms/step\n",
      "Epoch 29/100\n",
      "221/221 - 1s - loss: 0.0057 - val_loss: 2.8404e-04 - 957ms/epoch - 4ms/step\n",
      "Epoch 30/100\n",
      "221/221 - 1s - loss: 0.0052 - val_loss: 3.5994e-05 - 964ms/epoch - 4ms/step\n",
      "Epoch 31/100\n",
      "221/221 - 1s - loss: 0.0049 - val_loss: 1.5354e-04 - 949ms/epoch - 4ms/step\n",
      "Epoch 32/100\n",
      "221/221 - 1s - loss: 0.0050 - val_loss: 2.0452e-04 - 951ms/epoch - 4ms/step\n",
      "Epoch 33/100\n",
      "221/221 - 1s - loss: 0.0051 - val_loss: 1.6815e-04 - 1s/epoch - 5ms/step\n",
      "Epoch 34/100\n",
      "221/221 - 1s - loss: 0.0047 - val_loss: 2.4924e-04 - 1s/epoch - 5ms/step\n",
      "Epoch 35/100\n",
      "221/221 - 1s - loss: 0.0049 - val_loss: 3.8870e-04 - 1s/epoch - 5ms/step\n",
      "Epoch 36/100\n",
      "221/221 - 1s - loss: 0.0049 - val_loss: 1.4983e-04 - 1s/epoch - 5ms/step\n",
      "Epoch 37/100\n",
      "221/221 - 1s - loss: 0.0047 - val_loss: 3.0292e-05 - 997ms/epoch - 5ms/step\n",
      "Epoch 38/100\n",
      "221/221 - 1s - loss: 0.0048 - val_loss: 3.5194e-04 - 988ms/epoch - 4ms/step\n",
      "Epoch 39/100\n",
      "221/221 - 1s - loss: 0.0051 - val_loss: 2.9773e-04 - 1s/epoch - 5ms/step\n",
      "Epoch 40/100\n",
      "221/221 - 1s - loss: 0.0049 - val_loss: 8.9867e-05 - 993ms/epoch - 4ms/step\n",
      "Epoch 41/100\n",
      "221/221 - 1s - loss: 0.0046 - val_loss: 2.0587e-04 - 997ms/epoch - 5ms/step\n",
      "Epoch 42/100\n",
      "221/221 - 1s - loss: 0.0047 - val_loss: 1.9471e-04 - 998ms/epoch - 5ms/step\n",
      "Epoch 43/100\n",
      "221/221 - 1s - loss: 0.0045 - val_loss: 1.1384e-04 - 1s/epoch - 5ms/step\n",
      "Epoch 44/100\n",
      "221/221 - 1s - loss: 0.0045 - val_loss: 1.2710e-04 - 1s/epoch - 5ms/step\n",
      "Epoch 45/100\n",
      "221/221 - 1s - loss: 0.0045 - val_loss: 1.2188e-04 - 1s/epoch - 5ms/step\n",
      "Epoch 46/100\n",
      "221/221 - 1s - loss: 0.0044 - val_loss: 2.2492e-04 - 1s/epoch - 6ms/step\n",
      "Epoch 47/100\n",
      "221/221 - 1s - loss: 0.0042 - val_loss: 2.1444e-04 - 1s/epoch - 5ms/step\n",
      "Epoch 48/100\n",
      "221/221 - 1s - loss: 0.0041 - val_loss: 1.3820e-04 - 1s/epoch - 5ms/step\n",
      "Epoch 49/100\n",
      "221/221 - 1s - loss: 0.0045 - val_loss: 9.1267e-05 - 1s/epoch - 5ms/step\n",
      "Epoch 50/100\n",
      "221/221 - 1s - loss: 0.0039 - val_loss: 2.3588e-04 - 1s/epoch - 5ms/step\n",
      "Epoch 51/100\n",
      "221/221 - 1s - loss: 0.0040 - val_loss: 2.2805e-04 - 1s/epoch - 5ms/step\n",
      "Epoch 52/100\n",
      "221/221 - 1s - loss: 0.0039 - val_loss: 1.1036e-04 - 1s/epoch - 5ms/step\n",
      "Epoch 53/100\n",
      "221/221 - 1s - loss: 0.0039 - val_loss: 3.0345e-04 - 1s/epoch - 5ms/step\n",
      "Epoch 54/100\n",
      "221/221 - 1s - loss: 0.0037 - val_loss: 1.2612e-04 - 1s/epoch - 5ms/step\n",
      "Epoch 55/100\n",
      "221/221 - 1s - loss: 0.0036 - val_loss: 2.3979e-04 - 1s/epoch - 5ms/step\n",
      "Epoch 56/100\n",
      "221/221 - 1s - loss: 0.0037 - val_loss: 2.3334e-04 - 1s/epoch - 5ms/step\n",
      "Epoch 57/100\n",
      "221/221 - 1s - loss: 0.0034 - val_loss: 2.5393e-04 - 1s/epoch - 5ms/step\n",
      "Epoch 58/100\n",
      "221/221 - 1s - loss: 0.0035 - val_loss: 1.2869e-04 - 1s/epoch - 5ms/step\n",
      "Epoch 59/100\n",
      "221/221 - 1s - loss: 0.0034 - val_loss: 2.6752e-04 - 1s/epoch - 5ms/step\n",
      "Epoch 60/100\n",
      "221/221 - 1s - loss: 0.0034 - val_loss: 1.6853e-04 - 1s/epoch - 5ms/step\n",
      "Epoch 61/100\n",
      "221/221 - 1s - loss: 0.0036 - val_loss: 4.9789e-05 - 1s/epoch - 5ms/step\n",
      "Epoch 62/100\n",
      "221/221 - 1s - loss: 0.0036 - val_loss: 1.5612e-04 - 1s/epoch - 5ms/step\n",
      "Epoch 63/100\n",
      "221/221 - 1s - loss: 0.0035 - val_loss: 2.1866e-04 - 1s/epoch - 5ms/step\n",
      "Epoch 64/100\n",
      "221/221 - 1s - loss: 0.0034 - val_loss: 3.5566e-04 - 1s/epoch - 5ms/step\n",
      "Epoch 65/100\n",
      "221/221 - 1s - loss: 0.0034 - val_loss: 2.8593e-04 - 1s/epoch - 6ms/step\n",
      "Epoch 66/100\n",
      "221/221 - 1s - loss: 0.0035 - val_loss: 5.4699e-04 - 1s/epoch - 6ms/step\n",
      "Epoch 67/100\n",
      "221/221 - 1s - loss: 0.0035 - val_loss: 3.3865e-04 - 1s/epoch - 6ms/step\n",
      "Epoch 68/100\n",
      "221/221 - 1s - loss: 0.0034 - val_loss: 3.7245e-04 - 1s/epoch - 6ms/step\n",
      "Epoch 69/100\n",
      "221/221 - 1s - loss: 0.0034 - val_loss: 3.6182e-04 - 1s/epoch - 6ms/step\n",
      "Epoch 70/100\n",
      "221/221 - 1s - loss: 0.0034 - val_loss: 3.5285e-04 - 1s/epoch - 6ms/step\n",
      "Epoch 71/100\n",
      "221/221 - 1s - loss: 0.0037 - val_loss: 5.5683e-04 - 1s/epoch - 6ms/step\n",
      "Epoch 72/100\n",
      "221/221 - 1s - loss: 0.0034 - val_loss: 5.0692e-04 - 1s/epoch - 6ms/step\n",
      "Epoch 73/100\n",
      "221/221 - 1s - loss: 0.0034 - val_loss: 2.8035e-04 - 1s/epoch - 5ms/step\n",
      "Epoch 74/100\n",
      "221/221 - 1s - loss: 0.0036 - val_loss: 4.7822e-04 - 1s/epoch - 5ms/step\n",
      "Epoch 75/100\n",
      "221/221 - 1s - loss: 0.0035 - val_loss: 4.3678e-04 - 1s/epoch - 5ms/step\n",
      "Epoch 76/100\n",
      "221/221 - 1s - loss: 0.0034 - val_loss: 2.5277e-04 - 1s/epoch - 5ms/step\n",
      "Epoch 77/100\n",
      "221/221 - 1s - loss: 0.0035 - val_loss: 3.6393e-04 - 1s/epoch - 5ms/step\n",
      "Epoch 78/100\n",
      "221/221 - 1s - loss: 0.0034 - val_loss: 3.7962e-04 - 1s/epoch - 5ms/step\n",
      "Epoch 79/100\n",
      "221/221 - 1s - loss: 0.0036 - val_loss: 5.3907e-04 - 1s/epoch - 5ms/step\n",
      "Epoch 80/100\n",
      "221/221 - 1s - loss: 0.0035 - val_loss: 4.6479e-04 - 1s/epoch - 5ms/step\n",
      "Epoch 81/100\n",
      "221/221 - 1s - loss: 0.0034 - val_loss: 3.8465e-04 - 1s/epoch - 5ms/step\n",
      "Epoch 82/100\n",
      "221/221 - 1s - loss: 0.0035 - val_loss: 4.1996e-04 - 1s/epoch - 5ms/step\n",
      "Epoch 83/100\n",
      "221/221 - 1s - loss: 0.0034 - val_loss: 4.6382e-04 - 1s/epoch - 5ms/step\n",
      "Epoch 84/100\n",
      "221/221 - 1s - loss: 0.0034 - val_loss: 1.8819e-04 - 1s/epoch - 5ms/step\n",
      "Epoch 85/100\n",
      "221/221 - 1s - loss: 0.0034 - val_loss: 4.0722e-04 - 1s/epoch - 5ms/step\n",
      "Epoch 86/100\n",
      "221/221 - 1s - loss: 0.0035 - val_loss: 3.9001e-04 - 1s/epoch - 5ms/step\n",
      "Epoch 87/100\n",
      "221/221 - 1s - loss: 0.0034 - val_loss: 2.3242e-04 - 1s/epoch - 5ms/step\n",
      "Epoch 88/100\n",
      "221/221 - 1s - loss: 0.0033 - val_loss: 4.4359e-04 - 1s/epoch - 5ms/step\n",
      "Epoch 89/100\n",
      "221/221 - 1s - loss: 0.0035 - val_loss: 2.2612e-04 - 946ms/epoch - 4ms/step\n",
      "Epoch 90/100\n",
      "221/221 - 1s - loss: 0.0034 - val_loss: 5.1655e-04 - 946ms/epoch - 4ms/step\n",
      "Epoch 91/100\n",
      "221/221 - 1s - loss: 0.0033 - val_loss: 4.4927e-04 - 946ms/epoch - 4ms/step\n",
      "Epoch 92/100\n",
      "221/221 - 1s - loss: 0.0034 - val_loss: 1.7310e-04 - 941ms/epoch - 4ms/step\n",
      "Epoch 93/100\n",
      "221/221 - 1s - loss: 0.0033 - val_loss: 3.4980e-04 - 949ms/epoch - 4ms/step\n",
      "Epoch 94/100\n",
      "221/221 - 1s - loss: 0.0032 - val_loss: 3.4927e-04 - 951ms/epoch - 4ms/step\n",
      "Epoch 95/100\n",
      "221/221 - 1s - loss: 0.0032 - val_loss: 3.4230e-04 - 944ms/epoch - 4ms/step\n",
      "Epoch 96/100\n",
      "221/221 - 1s - loss: 0.0033 - val_loss: 4.2392e-04 - 959ms/epoch - 4ms/step\n",
      "Epoch 97/100\n",
      "221/221 - 1s - loss: 0.0034 - val_loss: 2.5965e-04 - 953ms/epoch - 4ms/step\n",
      "Epoch 98/100\n",
      "221/221 - 1s - loss: 0.0033 - val_loss: 5.0483e-04 - 961ms/epoch - 4ms/step\n",
      "Epoch 99/100\n",
      "221/221 - 1s - loss: 0.0034 - val_loss: 3.8931e-04 - 951ms/epoch - 4ms/step\n",
      "Epoch 100/100\n",
      "221/221 - 1s - loss: 0.0033 - val_loss: 3.9982e-04 - 965ms/epoch - 4ms/step\n"
     ]
    },
    {
     "data": {
      "image/png": "[encoded data removed]",
      "text/plain": [
       "<Figure size 640x480 with 1 Axes>"
      ]
     },
     "metadata": {},
     "output_type": "display_data"
    }
   ],
   "source": [
    "model = Sequential()\n",
    "# model.add(LSTM(10, activation='relu', return_sequences=True, input_shape=(train_X.shape[1], train_X.shape[2])))\n",
    "# # model.add(Dropout(0.5))\n",
    "# # model.add(RepeatVector(1))\n",
    "# model.add(LSTM(10, activation='relu', return_sequences=True))\n",
    "# model.add(LSTM(25, activation='relu', return_sequences=True))\n",
    "\n",
    "model.add(LSTM(units = 64, return_sequences = True, input_shape = (train_X.shape[1], train_X.shape[2])))\n",
    "model.add(Dropout(0.5))\n",
    "\n",
    "model.add(LSTM(units = 128, return_sequences = True))\n",
    "model.add(Dropout(0.5))\n",
    "\n",
    "model.add(LSTM(units = 64, return_sequences = True))\n",
    "model.add(Dropout(0.5))\n",
    "\n",
    "model.add(LSTM(units = 64))\n",
    "model.add(Dropout(0.2))\n",
    "\n",
    "\n",
    "model.add(Dense(feature_list_len))\n",
    "# model.add(TimeDistributed(Dense(2)))\n",
    "model.compile(loss='mse', optimizer='adam')\n",
    "# fit network\n",
    "history = model.fit(train_X, train_y, epochs=100, batch_size=72, validation_data=(test_X, test_y), verbose=2, shuffle=False)\n",
    "# plot history\n",
    "plt.plot(history.history['loss'], label='train')\n",
    "plt.plot(history.history['val_loss'], label='test')\n",
    "plt.legend()\n",
    "plt.show()"
   ]
  },
  {
   "cell_type": "code",
   "execution_count": 33,
   "metadata": {},
   "outputs": [
    {
     "name": "stdout",
     "output_type": "stream",
     "text": [
      "88/88 [==============================] - 1s 1ms/step\n"
     ]
    }
   ],
   "source": [
    "yhat = model.predict(test_X)\n",
    "yhat = yhat.reshape((-1, feature_list_len))\n",
    "# test_X = test_X.reshape((test_X.shape[0], test_X.shape[2]))\n",
    "# # invert scaling for forecast\n",
    "# inv_yhat = concatenate((yhat, test_X[:, 1:]), axis=1)\n",
    "inv_yhat = scaler.inverse_transform(yhat)\n",
    "inv_yhat = inv_yhat[:,0]\n",
    "\n",
    "# # test_y = test_y.reshape((len(test_y), 1))\n",
    "# # inv_y = concatenate((test_y, test_X[:, 1:]), axis=1)\n",
    "inv_y = scaler.inverse_transform(test_y)\n",
    "inv_y = inv_y[:,0]"
   ]
  },
  {
   "cell_type": "code",
   "execution_count": 34,
   "metadata": {},
   "outputs": [
    {
     "name": "stdout",
     "output_type": "stream",
     "text": [
      "Test RMSE: 151.686\n"
     ]
    }
   ],
   "source": [
    "rmse = mean_squared_error(inv_y, inv_yhat, squared=False)\n",
    "print('Test RMSE: %.3f' % rmse)"
   ]
  },
  {
   "cell_type": "code",
   "execution_count": 35,
   "metadata": {},
   "outputs": [],
   "source": [
    "pred = []*len(test_X)\n",
    "testing = train_X[-1]\n",
    "testing = testing.reshape((1, 1, feature_list_len))\n",
    "temp = model.predict(testing, verbose=0)\n",
    "testing = temp[0].reshape((1, 1, feature_list_len))\n",
    "for _ in range(len(test_X)):\n",
    "    # print(testing)\n",
    "    temp = model.predict(testing, verbose=0)\n",
    "    pred.append(temp[0])\n",
    "    testing = pred[-1].reshape((1, 1, feature_list_len))"
   ]
  },
  {
   "cell_type": "code",
   "execution_count": 36,
   "metadata": {},
   "outputs": [
    {
     "name": "stdout",
     "output_type": "stream",
     "text": [
      "Test RMSE: 175.775\n"
     ]
    }
   ],
   "source": [
    "pred = np.array(pred)\n",
    "pred = pred.reshape((-1, feature_list_len))\n",
    "pred = scaler.inverse_transform(pred)\n",
    "pred = pred[:,0]\n",
    "rmse = mean_squared_error(inv_y, pred, squared=False)\n",
    "print('Test RMSE: %.3f' % rmse)"
   ]
  },
  {
   "cell_type": "code",
   "execution_count": null,
   "metadata": {},
   "outputs": [],
   "source": []
  }
 ],
 "metadata": {
  "kernelspec": {
   "display_name": "hello",
   "language": "python",
   "name": "python3"
  },
  "language_info": {
   "codemirror_mode": {
    "name": "ipython",
    "version": 3
   },
   "file_extension": ".py",
   "mimetype": "text/x-python",
   "name": "python",
   "nbconvert_exporter": "python",
   "pygments_lexer": "ipython3",
   "version": "3.10.8"
  },
  "orig_nbformat": 4
 },
 "nbformat": 4,
 "nbformat_minor": 2
}
