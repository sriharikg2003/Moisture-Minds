{
 "cells": [
  {
   "cell_type": "code",
   "execution_count": 1,
   "metadata": {},
   "outputs": [],
   "source": [
    "from pandas import read_csv\n",
    "# from numpy import concatenate\n",
    "import numpy as np\n",
    "from datetime import datetime\n",
    "from pandas import DataFrame\n",
    "from pandas import concat\n",
    "from sklearn.preprocessing import MinMaxScaler\n",
    "from keras.models import Sequential\n",
    "from keras.layers import Dense\n",
    "from keras.layers import Dropout\n",
    "# from keras.layers import Bidirectional\n",
    "# from keras.layers import Reshape\n",
    "from keras.layers import LSTM\n",
    "# from keras.layers import TimeDistributed\n",
    "import matplotlib.pyplot as plt\n",
    "from sklearn.metrics import mean_squared_error\n",
    "# from keras.layers import RepeatVector\n",
    "from scipy.signal import savgol_filter"
   ]
  },
  {
   "cell_type": "code",
   "execution_count": 2,
   "metadata": {},
   "outputs": [],
   "source": [
    "def series_to_supervised(data, n_in=1, n_out=1, dropnan=True):\n",
    "    n_vars = 1 if type(data) is list else data.shape[1]\n",
    "    df = DataFrame(data)\n",
    "    cols, names = list(), list()\n",
    "    # input sequence (t-n, ... t-1)\n",
    "    for i in range(n_in, 0, -1):\n",
    "        cols.append(df.shift(i))\n",
    "        names += [('var%d(t-%d)' % (j+1, i)) for j in range(n_vars)]\n",
    "    # forecast sequence (t, t+1, ... t+n)\n",
    "    for i in range(0, n_out):\n",
    "        cols.append(df.shift(-i))\n",
    "        if i == 0:\n",
    "            names += [('var%d(t)' % (j+1)) for j in range(n_vars)]\n",
    "        else:\n",
    "            names += [('var%d(t+%d)' % (j+1, i)) for j in range(n_vars)]\n",
    "    # put it all together\n",
    "    agg = concat(cols, axis=1)\n",
    "    agg.columns = names\n",
    "    # drop rows with NaN values\n",
    "    if dropnan:\n",
    "        agg.dropna(inplace=True)\n",
    "    return agg  "
   ]
  },
  {
   "cell_type": "code",
   "execution_count": 3,
   "metadata": {},
   "outputs": [
    {
     "name": "stdout",
     "output_type": "stream",
     "text": [
      "                      pm1  pm2  pm3   am      sm     st      lum\n",
      "date                                                            \n",
      "2022-07-18 15:42:55  3.63  0.0  0.0  3.2  7813.0  25.65  15001.0\n",
      "2022-07-18 15:47:55  4.19  0.0  0.0  4.8  7692.0  25.66  13863.0\n",
      "2022-07-18 15:52:55  4.74  0.0  0.0  4.0  7813.0  25.67  13788.0\n",
      "2022-07-18 15:57:55  5.30  0.0  0.0  4.8  7813.0  25.68  14383.0\n",
      "2022-07-18 16:02:55  0.55  5.3  5.3  3.2  7813.0  25.69  14621.0\n"
     ]
    }
   ],
   "source": [
    "def parse(x):\n",
    "    return datetime.strptime(x, '%Y-%m-%d %H:%M:%S')\n",
    "\n",
    "dataset = read_csv('data1.csv',  parse_dates = ['ttime'], index_col=0, date_parser=parse)\n",
    "dataset.index.name = 'date'\n",
    "print(dataset.head())\n",
    "# dataset = read_csv('pollution.csv', header=0, index_col=0)\n",
    "feature_list = ['sm', 'st']\n",
    "feature_list_len = len(feature_list)\n",
    "values = dataset[feature_list].values\n",
    "# print(values[9920:])\n",
    "# print(values[:9266])\n",
    "# print(np.delete(values, np.s_[9266:9920], 1)[9300])\n",
    "values = np.delete(values, np.s_[9266:11000], 0)\n",
    "# values = values[11000:]\n",
    "# values = savgol_filter(values[:,1], 100, 1).reshape((-1, 1))\n",
    "# plt.plot(values[:, 1])\n",
    "# plt.show()\n"
   ]
  },
  {
   "cell_type": "code",
   "execution_count": 4,
   "metadata": {},
   "outputs": [
    {
     "data": {
      "text/plain": [
       "array([[7813.  ,   25.65],\n",
       "       [7692.  ,   25.66],\n",
       "       [7813.  ,   25.67],\n",
       "       ...,\n",
       "       [ 291.  ,   29.24],\n",
       "       [ 291.  ,   29.17],\n",
       "       [ 292.  ,   29.06]], dtype=float32)"
      ]
     },
     "execution_count": 4,
     "metadata": {},
     "output_type": "execute_result"
    }
   ],
   "source": [
    "values = values.astype('float32')\n",
    "values"
   ]
  },
  {
   "cell_type": "code",
   "execution_count": 5,
   "metadata": {},
   "outputs": [
    {
     "data": {
      "text/plain": [
       "array([[9.8379296e-01, 2.2580624e-01],\n",
       "       [9.6797806e-01, 2.2720885e-01],\n",
       "       [9.8379296e-01, 2.2861147e-01],\n",
       "       ...,\n",
       "       [6.5351278e-04, 7.2931266e-01],\n",
       "       [6.5351278e-04, 7.1949506e-01],\n",
       "       [7.8421459e-04, 7.0406699e-01]], dtype=float32)"
      ]
     },
     "execution_count": 5,
     "metadata": {},
     "output_type": "execute_result"
    }
   ],
   "source": [
    "scaler = MinMaxScaler(feature_range=(0, 1))\n",
    "scaled = scaler.fit_transform(values)\n",
    "scaled"
   ]
  },
  {
   "cell_type": "code",
   "execution_count": 6,
   "metadata": {},
   "outputs": [
    {
     "name": "stdout",
     "output_type": "stream",
     "text": [
      "   var1(t-1)  var2(t-1)   var1(t)   var2(t)\n",
      "1   0.983793   0.225806  0.967978  0.227209\n",
      "2   0.967978   0.227209  0.983793  0.228611\n",
      "3   0.983793   0.228611  0.983793  0.230014\n",
      "4   0.983793   0.230014  0.983793  0.231416\n",
      "5   0.983793   0.231416  0.983793  0.234221\n"
     ]
    }
   ],
   "source": [
    "reframed = series_to_supervised(scaled, 1, 1)\n",
    "# reframed.drop(reframed.columns[[-1]], axis=1, inplace=True)\n",
    "print(reframed.head())"
   ]
  },
  {
   "cell_type": "code",
   "execution_count": 7,
   "metadata": {},
   "outputs": [
    {
     "data": {
      "text/plain": [
       "17606"
      ]
     },
     "execution_count": 7,
     "metadata": {},
     "output_type": "execute_result"
    }
   ],
   "source": [
    "values = reframed.values\n",
    "len(values)"
   ]
  },
  {
   "cell_type": "code",
   "execution_count": 8,
   "metadata": {},
   "outputs": [
    {
     "name": "stdout",
     "output_type": "stream",
     "text": [
      "(14084, 1, 2) (14084, 2) (3522, 1, 2) (3522, 2)\n"
     ]
    }
   ],
   "source": [
    "train = values[:int(0.8*(len(values))), :]\n",
    "test = values[int(0.8*(len(values))):, :]\n",
    "\n",
    "train_X, train_y = train[:, :-feature_list_len], train[:, -feature_list_len:]\n",
    "test_X, test_y = test[:, :-feature_list_len], test[:, -feature_list_len:]\n",
    "\n",
    "train_X = train_X.reshape((train_X.shape[0], 1, train_X.shape[1]))\n",
    "test_X = test_X.reshape((test_X.shape[0], 1, test_X.shape[1]))\n",
    "print(train_X.shape, train_y.shape, test_X.shape, test_y.shape)"
   ]
  },
  {
   "cell_type": "code",
   "execution_count": 9,
   "metadata": {},
   "outputs": [
    {
     "name": "stdout",
     "output_type": "stream",
     "text": [
      "Epoch 1/30\n"
     ]
    },
    {
     "name": "stderr",
     "output_type": "stream",
     "text": [
      "2023-03-25 00:33:13.883239: W tensorflow/tsl/platform/profile_utils/cpu_utils.cc:128] Failed to get CPU frequency: 0 Hz\n"
     ]
    },
    {
     "name": "stdout",
     "output_type": "stream",
     "text": [
      "141/141 - 2s - loss: 0.1884 - val_loss: 0.1128 - 2s/epoch - 12ms/step\n",
      "Epoch 2/30\n",
      "141/141 - 0s - loss: 0.0220 - val_loss: 0.1062 - 291ms/epoch - 2ms/step\n",
      "Epoch 3/30\n",
      "141/141 - 0s - loss: 0.0176 - val_loss: 0.0965 - 281ms/epoch - 2ms/step\n",
      "Epoch 4/30\n",
      "141/141 - 0s - loss: 0.0136 - val_loss: 0.0835 - 274ms/epoch - 2ms/step\n",
      "Epoch 5/30\n",
      "141/141 - 0s - loss: 0.0107 - val_loss: 0.0684 - 274ms/epoch - 2ms/step\n",
      "Epoch 6/30\n",
      "141/141 - 0s - loss: 0.0090 - val_loss: 0.0552 - 280ms/epoch - 2ms/step\n",
      "Epoch 7/30\n",
      "141/141 - 0s - loss: 0.0079 - val_loss: 0.0444 - 275ms/epoch - 2ms/step\n",
      "Epoch 8/30\n",
      "141/141 - 0s - loss: 0.0070 - val_loss: 0.0362 - 281ms/epoch - 2ms/step\n",
      "Epoch 9/30\n",
      "141/141 - 0s - loss: 0.0063 - val_loss: 0.0304 - 284ms/epoch - 2ms/step\n",
      "Epoch 10/30\n",
      "141/141 - 0s - loss: 0.0057 - val_loss: 0.0261 - 286ms/epoch - 2ms/step\n",
      "Epoch 11/30\n",
      "141/141 - 0s - loss: 0.0053 - val_loss: 0.0230 - 284ms/epoch - 2ms/step\n",
      "Epoch 12/30\n",
      "141/141 - 0s - loss: 0.0050 - val_loss: 0.0208 - 282ms/epoch - 2ms/step\n",
      "Epoch 13/30\n",
      "141/141 - 0s - loss: 0.0047 - val_loss: 0.0192 - 281ms/epoch - 2ms/step\n",
      "Epoch 14/30\n",
      "141/141 - 0s - loss: 0.0045 - val_loss: 0.0175 - 273ms/epoch - 2ms/step\n",
      "Epoch 15/30\n",
      "141/141 - 0s - loss: 0.0043 - val_loss: 0.0166 - 274ms/epoch - 2ms/step\n",
      "Epoch 16/30\n",
      "141/141 - 0s - loss: 0.0042 - val_loss: 0.0156 - 273ms/epoch - 2ms/step\n",
      "Epoch 17/30\n",
      "141/141 - 0s - loss: 0.0041 - val_loss: 0.0148 - 273ms/epoch - 2ms/step\n",
      "Epoch 18/30\n",
      "141/141 - 0s - loss: 0.0041 - val_loss: 0.0143 - 273ms/epoch - 2ms/step\n",
      "Epoch 19/30\n",
      "141/141 - 0s - loss: 0.0040 - val_loss: 0.0138 - 272ms/epoch - 2ms/step\n",
      "Epoch 20/30\n",
      "141/141 - 0s - loss: 0.0040 - val_loss: 0.0135 - 274ms/epoch - 2ms/step\n",
      "Epoch 21/30\n",
      "141/141 - 0s - loss: 0.0039 - val_loss: 0.0132 - 273ms/epoch - 2ms/step\n",
      "Epoch 22/30\n",
      "141/141 - 0s - loss: 0.0039 - val_loss: 0.0130 - 270ms/epoch - 2ms/step\n",
      "Epoch 23/30\n",
      "141/141 - 0s - loss: 0.0039 - val_loss: 0.0129 - 271ms/epoch - 2ms/step\n",
      "Epoch 24/30\n",
      "141/141 - 0s - loss: 0.0038 - val_loss: 0.0128 - 272ms/epoch - 2ms/step\n",
      "Epoch 25/30\n",
      "141/141 - 0s - loss: 0.0038 - val_loss: 0.0127 - 271ms/epoch - 2ms/step\n",
      "Epoch 26/30\n",
      "141/141 - 0s - loss: 0.0038 - val_loss: 0.0127 - 272ms/epoch - 2ms/step\n",
      "Epoch 27/30\n",
      "141/141 - 0s - loss: 0.0038 - val_loss: 0.0126 - 271ms/epoch - 2ms/step\n",
      "Epoch 28/30\n",
      "141/141 - 0s - loss: 0.0037 - val_loss: 0.0126 - 280ms/epoch - 2ms/step\n",
      "Epoch 29/30\n",
      "141/141 - 0s - loss: 0.0037 - val_loss: 0.0126 - 272ms/epoch - 2ms/step\n",
      "Epoch 30/30\n",
      "141/141 - 0s - loss: 0.0037 - val_loss: 0.0125 - 271ms/epoch - 2ms/step\n"
     ]
    },
    {
     "data": {
      "image/png": "[encoded data removed]",
      "text/plain": [
       "<Figure size 640x480 with 1 Axes>"
      ]
     },
     "metadata": {},
     "output_type": "display_data"
    }
   ],
   "source": [
    "model = Sequential()\n",
    "model.add(LSTM(100, activation='relu', return_sequences=True, input_shape=(train_X.shape[1], train_X.shape[2])))\n",
    "# model.add(Dropout(0.5))\n",
    "# # model.add(RepeatVector(1))\n",
    "# model.add(LSTM(10, activation='relu', return_sequences=True))\n",
    "model.add(LSTM(25, activation='relu', return_sequences=True))\n",
    "# model.add(LSTM(25, activation='relu', return_sequences=True))\n",
    "\n",
    "# model.add(LSTM(units = 64, return_sequences = True, input_shape = (train_X.shape[1], train_X.shape[2])))\n",
    "# model.add(Dropout(0.5))\n",
    "\n",
    "# model.add(LSTM(units = 128, return_sequences = True))\n",
    "# model.add(Dropout(0.5))\n",
    "\n",
    "# model.add(LSTM(units = 64, return_sequences = True))\n",
    "# model.add(Dropout(0.5))\n",
    "\n",
    "# model.add(LSTM(units = 64))\n",
    "# model.add(Dropout(0.2))\n",
    "\n",
    "\n",
    "model.add(Dense(feature_list_len))\n",
    "# model.add(TimeDistributed(Dense(2)))\n",
    "model.compile(loss='mse', optimizer='adam')\n",
    "# fit network\n",
    "history = model.fit(train_X, train_y, epochs=30, batch_size=100, validation_data=(test_X, test_y), verbose=2, shuffle=False)\n",
    "# plot history\n",
    "plt.plot(history.history['loss'], label='train')\n",
    "plt.plot(history.history['val_loss'], label='test')\n",
    "plt.legend()\n",
    "plt.show()"
   ]
  },
  {
   "cell_type": "code",
   "execution_count": 10,
   "metadata": {},
   "outputs": [
    {
     "name": "stdout",
     "output_type": "stream",
     "text": [
      "111/111 [==============================] - 0s 584us/step\n"
     ]
    }
   ],
   "source": [
    "# yhat = model.predict(test_X)\n",
    "# yhat = yhat.reshape((-1, feature_list_len))\n",
    "# # test_X = test_X.reshape((test_X.shape[0], test_X.shape[2]))\n",
    "# # # invert scaling for forecast\n",
    "# # inv_yhat = concatenate((yhat, test_X[:, 1:]), axis=1)\n",
    "# inv_yhat = scaler.inverse_transform(yhat)\n",
    "# inv_yhat = inv_yhat[:,0]\n",
    "\n",
    "# # test_y = test_y.reshape((len(test_y), 1))\n",
    "# # inv_y = concatenate((test_y, test_X[:, 1:]), axis=1)\n",
    "inv_y = scaler.inverse_transform(test_y)\n",
    "inv_y = inv_y[:,0]"
   ]
  },
  {
   "cell_type": "code",
   "execution_count": 11,
   "metadata": {},
   "outputs": [
    {
     "name": "stdout",
     "output_type": "stream",
     "text": [
      "Test RMSE: 263.520\n"
     ]
    }
   ],
   "source": [
    "# rmse = mean_squared_error(inv_y, inv_yhat, squared=False)\n",
    "# print('Test RMSE: %.3f' % rmse)"
   ]
  },
  {
   "cell_type": "code",
   "execution_count": 12,
   "metadata": {},
   "outputs": [],
   "source": [
    "pred = []*len(test_X)\n",
    "testing = train_X[-1]\n",
    "testing = testing.reshape((1, 1, feature_list_len))\n",
    "temp = model.predict(testing, verbose=0)\n",
    "testing = temp[0].reshape((1, 1, feature_list_len))\n",
    "for _ in range(len(test_X)):\n",
    "    # print(testing)\n",
    "    temp = model.predict(testing, verbose=0)\n",
    "    pred.append(temp[0])\n",
    "    testing = pred[-1].reshape((1, 1, feature_list_len))"
   ]
  },
  {
   "cell_type": "code",
   "execution_count": 13,
   "metadata": {},
   "outputs": [
    {
     "name": "stdout",
     "output_type": "stream",
     "text": [
      "Test RMSE: 67.036\n"
     ]
    }
   ],
   "source": [
    "pred = np.array(pred)\n",
    "pred = pred.reshape((-1, feature_list_len))\n",
    "pred = scaler.inverse_transform(pred)\n",
    "pred = pred[:,0]\n",
    "rmse = mean_squared_error(inv_y, pred, squared=False)\n",
    "print('Test RMSE: %.3f' % rmse)"
   ]
  },
  {
   "cell_type": "code",
   "execution_count": null,
   "metadata": {},
   "outputs": [],
   "source": []
  }
 ],
 "metadata": {
  "kernelspec": {
   "display_name": "hello",
   "language": "python",
   "name": "python3"
  },
  "language_info": {
   "codemirror_mode": {
    "name": "ipython",
    "version": 3
   },
   "file_extension": ".py",
   "mimetype": "text/x-python",
   "name": "python",
   "nbconvert_exporter": "python",
   "pygments_lexer": "ipython3",
   "version": "3.10.8"
  },
  "orig_nbformat": 4
 },
 "nbformat": 4,
 "nbformat_minor": 2
}
