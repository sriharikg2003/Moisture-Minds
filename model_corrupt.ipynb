{
 "cells": [
  {
   "cell_type": "code",
   "execution_count": 1,
   "id": "cfa66b42",
   "metadata": {},
   "outputs": [],
   "source": [
    "import pandas as pd\n",
    "import numpy as np\n",
    "import matplotlib.pyplot as plt\n",
    "import math\n",
    "import tensorflow as tf\n",
    "import seaborn as sns\n",
    "from matplotlib.pylab import rcParams\n",
    "from sklearn import metrics\n",
    "from sklearn.ensemble import RandomForestRegressor\n",
    "from sklearn.cross_decomposition import PLSRegression \n",
    "from lightgbm import LGBMRegressor\n",
    "from sklearn.model_selection import train_test_split\n",
    "from sklearn.linear_model import LinearRegression\n",
    "from keras.layers import Dropout\n",
    "from sklearn.preprocessing import MinMaxScaler\n",
    "from keras.models import Sequential\n",
    "from keras.layers import Dense, LSTM\n",
    "%matplotlib inline"
   ]
  },
  {
   "cell_type": "code",
   "execution_count": 2,
   "id": "4e99c0b3",
   "metadata": {},
   "outputs": [],
   "source": [
    "df_1 = pd.read_csv('user1_data.csv')\n",
    "df_2 = pd.read_csv('user2_data.csv')"
   ]
  },
  {
   "cell_type": "code",
   "execution_count": 4,
   "id": "cb103406",
   "metadata": {},
   "outputs": [],
   "source": [
    "X = df_1.drop(['sm','ttime'],axis=1)\n",
    "y = df_1[\"sm\"]"
   ]
  },
  {
   "cell_type": "code",
   "execution_count": 10,
   "id": "4dbbada7",
   "metadata": {},
   "outputs": [
    {
     "name": "stdout",
     "output_type": "stream",
     "text": [
      "Mean Absolute Error: 1746.1936176175564\n",
      "Root Mean Squared Error: 1931.6974186003265\n"
     ]
    }
   ],
   "source": [
    "# Linear Regression\n",
    "from sklearn.model_selection import train_test_split\n",
    "X_train, X_test, y_train, y_test = train_test_split(X, y, test_size=0.3, random_state=101)\n",
    "from sklearn.linear_model import LinearRegression\n",
    "lm = LinearRegression()\n",
    "lm.fit(X_train,y_train)\n",
    "predictions = lm.predict(X_test)\n",
    "\n",
    "## Plots\n",
    "# plt.scatter(y_test,predictions)\n",
    "\n",
    "#  Evaluation Metrics\n",
    "from sklearn import metrics\n",
    "print('Mean Absolute Error:', metrics.mean_absolute_error(y_test, predictions))\n",
    "print('Root Mean Squared Error:', np.sqrt(metrics.mean_squared_error(y_test, predictions)))\n"
   ]
  },
  {
   "cell_type": "code",
   "execution_count": 11,
   "id": "a6a1a2c4",
   "metadata": {},
   "outputs": [
    {
     "name": "stdout",
     "output_type": "stream",
     "text": [
      "Mean Absolute Error: 12.180156944162222\n",
      "Mean Squared Error: 15.210097486008056\n"
     ]
    }
   ],
   "source": [
    "# LGBM Regressor\n",
    "\n",
    "from lightgbm import LGBMRegressor\n",
    "\n",
    "horizon = 25\n",
    "    \n",
    "X_train, X_test = X.iloc[:-horizon,:], X.iloc[-horizon:,:]\n",
    "y_train, y_test = y.iloc[:-horizon], y.iloc[-horizon:]\n",
    "\n",
    "\n",
    "model = LGBMRegressor(random_state=42)\n",
    "model.fit(X_train,y_train)\n",
    "predictions=model.predict(X_test)\n",
    "\n",
    "print('Mean Absolute Error:', metrics.mean_absolute_error(y_test, predictions))\n",
    "print('Mean Squared Error:', metrics.mean_squared_error(y_test, predictions,squared=False))"
   ]
  },
  {
   "cell_type": "code",
   "execution_count": 12,
   "id": "a81ddca0",
   "metadata": {},
   "outputs": [
    {
     "data": {
      "text/plain": [
       "0        2538.963190\n",
       "1        2375.408312\n",
       "2        2496.408312\n",
       "3        2496.408312\n",
       "4         210.806313\n",
       "            ...     \n",
       "19336       5.952427\n",
       "19337       4.952427\n",
       "19338       5.952427\n",
       "19339       5.952427\n",
       "19340       4.937987\n",
       "Name: sm, Length: 19341, dtype: float64"
      ]
     },
     "execution_count": 12,
     "metadata": {},
     "output_type": "execute_result"
    }
   ],
   "source": [
    "# model.predict()\n",
    "# \n",
    "# \n",
    "abs(model.predict(X)-y)\n"
   ]
  },
  {
   "cell_type": "code",
   "execution_count": 13,
   "id": "1ab2f655",
   "metadata": {},
   "outputs": [
    {
     "name": "stdout",
     "output_type": "stream",
     "text": [
      "Mean Absolute Error: 1414.0793595542036\n",
      "Mean Squared Error: 1425.5525297354152\n"
     ]
    }
   ],
   "source": [
    "## PLSRegression\n",
    "\n",
    "from sklearn.cross_decomposition import PLSRegression \n",
    "model = PLSRegression(n_components=4)\n",
    "\n",
    "horizon = 25\n",
    "\n",
    "X_train, X_test = X.iloc[:-horizon,:], X.iloc[-horizon:,:]\n",
    "y_train, y_test = y.iloc[:-horizon], y.iloc[-horizon:]\n",
    "\n",
    "model.fit(X_train,y_train)\n",
    "predictions=model.predict(X_test)\n",
    "\n",
    "print('Mean Absolute Error:', metrics.mean_absolute_error(y_test, predictions))\n",
    "print('Mean Squared Error:', metrics.mean_squared_error(y_test, predictions,squared=False))"
   ]
  },
  {
   "cell_type": "code",
   "execution_count": 14,
   "id": "ec5f9745",
   "metadata": {
    "scrolled": true
   },
   "outputs": [
    {
     "name": "stdout",
     "output_type": "stream",
     "text": [
      "Mean Absolute Error: 384.6741005487055\n",
      "Mean Squared Error: 647.3186565621697\n"
     ]
    }
   ],
   "source": [
    "# Random Forest\n",
    "\n",
    "from sklearn.model_selection import train_test_split\n",
    "\n",
    "\n",
    "X = df_1.drop(['sm','ttime'], axis=1)\n",
    "y = df_1['sm']\n",
    "\n",
    "X_train, X_test, y_train, y_test = train_test_split(X, y, test_size=0.20, random_state=101)\n",
    "\n",
    "from sklearn.ensemble import RandomForestRegressor\n",
    "from sklearn import metrics\n",
    "\n",
    "model = RandomForestRegressor(max_depth=2, random_state=0)\n",
    "model.fit(X, y)\n",
    "predictions = model.predict(X_test)\n",
    "\n",
    "print('Mean Absolute Error:', metrics.mean_absolute_error(y_test, predictions))\n",
    "print('Mean Squared Error:', metrics.mean_squared_error(y_test, predictions,squared=False))\n"
   ]
  },
  {
   "cell_type": "code",
   "execution_count": 65,
   "id": "e407877c",
   "metadata": {},
   "outputs": [],
   "source": [
    "# # Neural Network\n",
    "# # import tensorflow as tf\n",
    "# # print(\"Importing ...\")\n",
    "# # print(\"Imported\")\n",
    "\n",
    "# # Normalize the data\n",
    "\n",
    "# X = df_2.drop(['sm','ttime'], axis=1)\n",
    "# y = df_2['sm']\n",
    "\n",
    "# X_train, X_test, y_train, y_test = train_test_split(X, y, test_size=0.30, random_state=101)\n",
    "\n",
    "\n",
    "# x_train = tf.keras.utils.normalize(X_train , axis=1)\n",
    "# x_test = tf.keras.utils.normalize(X_test , axis=1)\n",
    "\n",
    "# model = tf.keras.models.Sequential()\n",
    "\n",
    "# model.add(tf.keras.layers.Dense(15,activation='relu'))\n",
    "\n",
    "# model.add(tf.keras.layers.Dense(30,activation='relu'))\n",
    "\n",
    "# model.add(tf.keras.layers.Dense(25,activation='relu'))\n",
    "\n",
    "# model.add(tf.keras.layers.Dense(1,activation='relu'))\n",
    "\n",
    "# model.compile(loss='mse',optimizer='adam')\n",
    "\n",
    "# model.fit(x_train,y_train,epochs = 250)\n",
    "\n",
    "# model.save('soil.model')"
   ]
  },
  {
   "cell_type": "code",
   "execution_count": 319,
   "id": "5b9ba2a5",
   "metadata": {},
   "outputs": [],
   "source": [
    "model = tf.keras.models.load_model('soil.model')\n",
    "# loss, accuracy = model.evaluate(X_test,y_test)"
   ]
  },
  {
   "cell_type": "code",
   "execution_count": 435,
   "id": "ee4a0ddb",
   "metadata": {
    "scrolled": true
   },
   "outputs": [],
   "source": [
    "model.evaluate(x_test,y_test)"
   ]
  },
  {
   "cell_type": "code",
   "execution_count": 141,
   "id": "a60484fd",
   "metadata": {},
   "outputs": [
    {
     "data": {
      "text/plain": [
       "Index(['pm1', 'pm2', 'pm3', 'am', 'sm', 'st', 'lum'], dtype='object')"
      ]
     },
     "execution_count": 141,
     "metadata": {},
     "output_type": "execute_result"
    }
   ],
   "source": [
    " df_1.columns[1:]\n",
    "\n",
    "# [0,1,2,3,5,6]"
   ]
  },
  {
   "cell_type": "code",
   "execution_count": 5,
   "id": "b041d824",
   "metadata": {},
   "outputs": [],
   "source": [
    "# LSTM \n",
    "\n",
    "\n",
    "from sklearn.preprocessing import MinMaxScaler\n",
    "from keras.models import Sequential\n",
    "from keras.layers import Dense, LSTM\n",
    "\n",
    "input_fetaure_index=[2,4,6,5]\n",
    "no_of_features= len(input_fetaure_index)\n",
    "target_index = 5\n",
    "in_days=40"
   ]
  },
  {
   "cell_type": "code",
   "execution_count": 6,
   "id": "5fee749b",
   "metadata": {},
   "outputs": [],
   "source": [
    "df = df_2.drop('ttime',axis=1)\n",
    "\n",
    "fraction = math.ceil(len(df) * .75)\n",
    "\n",
    "scaler = MinMaxScaler(feature_range=(0, 1))\n",
    "\n",
    "scaled_data = scaler.fit_transform(df)\n",
    "\n",
    "train_data = scaled_data[0:fraction , : ]"
   ]
  },
  {
   "cell_type": "code",
   "execution_count": 7,
   "id": "5b9917cd",
   "metadata": {},
   "outputs": [],
   "source": [
    "#Splitting the data\n",
    "x_train=[]\n",
    "y_train = []\n",
    "for i in range(in_days, len(train_data)):\n",
    "    x_train.append(train_data[i-in_days:i,input_fetaure_index])\n",
    "    y_train.append(train_data[i,target_index])"
   ]
  },
  {
   "cell_type": "code",
   "execution_count": 8,
   "id": "916e886b",
   "metadata": {},
   "outputs": [],
   "source": [
    "# x_train"
   ]
  },
  {
   "cell_type": "code",
   "execution_count": 9,
   "id": "8e33adce",
   "metadata": {},
   "outputs": [],
   "source": [
    "#Convert to numpy arrays\n",
    "x_train, y_train = np.array(x_train), np.array(y_train)\n",
    "#Reshape the data into 3-D array\n",
    "# x_train = np.reshape(x_train, (x_train.shape[0],x_train.shape[1],no_of_features))    "
   ]
  },
  {
   "cell_type": "code",
   "execution_count": 10,
   "id": "831c9050",
   "metadata": {},
   "outputs": [],
   "source": [
    "from keras.layers import Dropout\n",
    "\n",
    "model = Sequential()\n",
    "model.add(LSTM(units = 50, return_sequences = True, input_shape = (x_train.shape[1], no_of_features)))\n",
    "model.add(Dropout(0.1))\n",
    "\n",
    "model.add(LSTM(units = 50, return_sequences = True, input_shape = (x_train.shape[1], no_of_features)))\n",
    "model.add(Dropout(0.1))\n",
    "\n",
    "# model.add(LSTM(units = 50, return_sequences = True, input_shape = (x_train.shape[1], no_of_features)))\n",
    "# model.add(Dropout(0.2))\n",
    "\n",
    "model.add(LSTM(units = 10))\n",
    "model.add(Dropout(0.1))\n",
    "\n",
    "model.add(Dense(1, activation='relu6'))\n",
    "\n"
   ]
  },
  {
   "cell_type": "code",
   "execution_count": 11,
   "id": "d47ee7f3",
   "metadata": {},
   "outputs": [],
   "source": [
    "model.compile(optimizer = 'adam', loss = 'mean_squared_error')"
   ]
  },
  {
   "cell_type": "code",
   "execution_count": 14,
   "id": "ff85a480",
   "metadata": {},
   "outputs": [
    {
     "name": "stdout",
     "output_type": "stream",
     "text": [
      "Epoch 1/2\n",
      "16/16 [==============================] - 4s 272ms/step - loss: 0.0327\n",
      "Epoch 2/2\n",
      "16/16 [==============================] - 4s 222ms/step - loss: 0.0285\n"
     ]
    },
    {
     "data": {
      "text/plain": [
       "<keras.callbacks.History at 0x1fcdb548910>"
      ]
     },
     "execution_count": 14,
     "metadata": {},
     "output_type": "execute_result"
    }
   ],
   "source": [
    "model.fit(x_train, y_train, epochs =2, batch_size = 1000)"
   ]
  },
  {
   "cell_type": "code",
   "execution_count": 15,
   "id": "3d4cf4ca",
   "metadata": {},
   "outputs": [],
   "source": [
    "#Test data set\n",
    "test_data = scaled_data[fraction-1: , : ]\n",
    "#splitting the x_test and y_test data sets\n",
    "x_test = []\n",
    "y_test = df_2.drop('ttime',axis=1)['sm'].to_numpy()[fraction+in_days-1 : ]\n",
    "for i in range(in_days,len(test_data)):\n",
    "    x_test.append(test_data[i-in_days:i,input_fetaure_index])\n",
    "# #Convert x_test to a numpy array\n",
    "x_test = np.array(x_test)\n",
    "# #Reshape the data into 3-D array\n",
    "x_test = np.reshape(x_test, (x_test.shape[0],x_test.shape[1],no_of_features))\n",
    "# print(x_test.shape, y_test.shape)\n"
   ]
  },
  {
   "cell_type": "code",
   "execution_count": null,
   "id": "088f0a7d",
   "metadata": {},
   "outputs": [],
   "source": [
    "arr = x_test \n",
    "arr.shape"
   ]
  },
  {
   "cell_type": "code",
   "execution_count": 140,
   "id": "92f83428",
   "metadata": {},
   "outputs": [
    {
     "data": {
      "text/plain": [
       "5041"
      ]
     },
     "execution_count": 140,
     "metadata": {},
     "output_type": "execute_result"
    }
   ],
   "source": [
    "scaled_data.shape[0]-fraction\n"
   ]
  },
  {
   "cell_type": "code",
   "execution_count": 141,
   "id": "a07bf7bd",
   "metadata": {},
   "outputs": [
    {
     "data": {
      "text/plain": [
       "(5002, 40, 4)"
      ]
     },
     "execution_count": 141,
     "metadata": {},
     "output_type": "execute_result"
    }
   ],
   "source": [
    "x_test.shape"
   ]
  },
  {
   "cell_type": "code",
   "execution_count": 142,
   "id": "c04c6668",
   "metadata": {},
   "outputs": [
    {
     "data": {
      "text/plain": [
       "(5002, 40, 4)"
      ]
     },
     "execution_count": 142,
     "metadata": {},
     "output_type": "execute_result"
    }
   ],
   "source": [
    "x_test.shape"
   ]
  },
  {
   "cell_type": "code",
   "execution_count": 16,
   "id": "3c9561dc",
   "metadata": {},
   "outputs": [
    {
     "name": "stdout",
     "output_type": "stream",
     "text": [
      "157/157 [==============================] - 4s 12ms/step\n"
     ]
    }
   ],
   "source": [
    "\n",
    "#check predicted values\n",
    "predictions = model.predict(x_test)\n",
    "# # Undo scaling\n",
    "temp = df_2.drop('ttime', axis=1).values\n",
    "predictions = np.concatenate((temp[len(df_2)-len(predictions):, :target_index],predictions, temp[len(df_2)-len(predictions):, target_index+1:]), axis=1)\n",
    "predictions = scaler.inverse_transform(predictions)\n",
    "predictions = predictions[:, target_index]\n"
   ]
  },
  {
   "cell_type": "code",
   "execution_count": 144,
   "id": "62d40c1e",
   "metadata": {
    "scrolled": true
   },
   "outputs": [
    {
     "data": {
      "text/plain": [
       "(5002,)"
      ]
     },
     "execution_count": 144,
     "metadata": {},
     "output_type": "execute_result"
    }
   ],
   "source": [
    "predictions.shape\n"
   ]
  },
  {
   "cell_type": "code",
   "execution_count": 145,
   "id": "edb74b7f",
   "metadata": {},
   "outputs": [
    {
     "data": {
      "text/plain": [
       "(5002,)"
      ]
     },
     "execution_count": 145,
     "metadata": {},
     "output_type": "execute_result"
    }
   ],
   "source": [
    "predictions.shape"
   ]
  },
  {
   "cell_type": "code",
   "execution_count": 146,
   "id": "56af6ce0",
   "metadata": {},
   "outputs": [
    {
     "data": {
      "text/plain": [
       "(5002,)"
      ]
     },
     "execution_count": 146,
     "metadata": {},
     "output_type": "execute_result"
    }
   ],
   "source": [
    "y_test.shape"
   ]
  },
  {
   "cell_type": "code",
   "execution_count": 147,
   "id": "9345ae24",
   "metadata": {},
   "outputs": [
    {
     "data": {
      "text/plain": [
       "[<matplotlib.lines.Line2D at 0x25d1890c280>]"
      ]
     },
     "execution_count": 147,
     "metadata": {},
     "output_type": "execute_result"
    },
    {
     "data": {
      "image/png": "[encoded data removed]",
      "text/plain": [
       "<Figure size 640x480 with 1 Axes>"
      ]
     },
     "metadata": {},
     "output_type": "display_data"
    }
   ],
   "source": [
    "plt.plot(predictions)\n",
    "plt.plot(y_test)"
   ]
  },
  {
   "cell_type": "code",
   "execution_count": 22,
   "id": "d447a6a8",
   "metadata": {},
   "outputs": [
    {
     "data": {
      "text/plain": [
       "array([ 500.46971492,  623.13046654,  731.54071806, ..., 2036.02029546,\n",
       "       2845.62018844, 3696.18376605])"
      ]
     },
     "execution_count": 22,
     "metadata": {},
     "output_type": "execute_result"
    }
   ],
   "source": [
    "predictions"
   ]
  },
  {
   "cell_type": "code",
   "execution_count": 18,
   "id": "89ccd332",
   "metadata": {},
   "outputs": [
    {
     "name": "stdout",
     "output_type": "stream",
     "text": [
      "Mean Squared Error: 3051.740970247594\n"
     ]
    }
   ],
   "source": [
    "print('Mean Squared Error:', metrics.mean_squared_error(y_test, predictions,squared=False))"
   ]
  },
  {
   "cell_type": "code",
   "execution_count": 19,
   "id": "21b178c4",
   "metadata": {},
   "outputs": [
    {
     "data": {
      "text/plain": [
       "Index(['pm1', 'pm2', 'pm3', 'am', 'sm', 'lum', 'temp', 'humd', 'pres'], dtype='object')"
      ]
     },
     "execution_count": 19,
     "metadata": {},
     "output_type": "execute_result"
    }
   ],
   "source": [
    "\n",
    "\n",
    "df_2.columns[1:]"
   ]
  },
  {
   "cell_type": "code",
   "execution_count": 20,
   "id": "1c76305e",
   "metadata": {},
   "outputs": [
    {
     "data": {
      "text/plain": [
       "array([ 500.46971492,  623.13046654,  731.54071806, ..., 2036.02029546,\n",
       "       2845.62018844, 3696.18376605])"
      ]
     },
     "execution_count": 20,
     "metadata": {},
     "output_type": "execute_result"
    }
   ],
   "source": [
    "predictions"
   ]
  },
  {
   "cell_type": "code",
   "execution_count": null,
   "id": "ad96118e",
   "metadata": {},
   "outputs": [],
   "source": []
  },
  {
   "cell_type": "code",
   "execution_count": null,
   "id": "ab10dfd7",
   "metadata": {},
   "outputs": [],
   "source": []
  },
  {
   "cell_type": "code",
   "execution_count": 423,
   "id": "c44bfdb7",
   "metadata": {},
   "outputs": [],
   "source": [
    "# Proper LSTM\n",
    "\n",
    "from sklearn.preprocessing import MinMaxScaler\n",
    "from keras.models import Sequential\n",
    "from keras.layers import Dense, LSTM\n",
    "\n",
    "input_fetaure_index=[0,1,2,3]\n",
    "no_of_features= len(input_fetaure_index)\n",
    "target_index = 3\n",
    "in_days=40"
   ]
  },
  {
   "cell_type": "code",
   "execution_count": 424,
   "id": "1f138b5f",
   "metadata": {},
   "outputs": [
    {
     "name": "stdout",
     "output_type": "stream",
     "text": [
      "sample SET HAS 15125\n",
      "sample SET ShAPE (15125, 4)\n"
     ]
    }
   ],
   "source": [
    "df = df_2.drop(['ttime', 'pm1',  'am', 'lum', 'humd','pres','sm'],axis=1)\n",
    "df['sm']=df_2['sm']\n",
    "\n",
    "fraction = math.ceil(len(df) * .75)\n",
    "print(f\"sample SET HAS {fraction}\")\n",
    "\n",
    "\n",
    "# scaler = MinMaxScaler(feature_range=(0, 1))\n",
    "\n",
    "# scaled_data = scaler.fit_transform(df)\n",
    "scaled_data =  df.to_numpy()\n",
    "train_data = df.iloc[0:fraction , : ].to_numpy()\n",
    "print(f\"sample SET ShAPE {train_data.shape}\")"
   ]
  },
  {
   "cell_type": "code",
   "execution_count": 425,
   "id": "8ebb44f8",
   "metadata": {},
   "outputs": [
    {
     "data": {
      "text/plain": [
       "(20166, 4)"
      ]
     },
     "execution_count": 425,
     "metadata": {},
     "output_type": "execute_result"
    }
   ],
   "source": [
    "scaled_data.shape"
   ]
  },
  {
   "cell_type": "code",
   "execution_count": 426,
   "id": "ba62274d",
   "metadata": {},
   "outputs": [],
   "source": [
    "x_train=[]\n",
    "y_train = []\n",
    "i=in_days\n",
    "for i in range(in_days, len(train_data)):\n",
    "    x_train.append(train_data[i-in_days:i,input_fetaure_index])\n",
    "    y_train.append(train_data[i,target_index])\n",
    "    \n",
    "x_train, y_train = np.array(x_train), np.array(y_train)\n"
   ]
  },
  {
   "cell_type": "code",
   "execution_count": 427,
   "id": "faa1bb29",
   "metadata": {},
   "outputs": [],
   "source": [
    "from keras.layers import Dropout\n",
    "\n",
    "model = Sequential()\n",
    "model.add(LSTM(units = in_days, return_sequences = True, input_shape = (x_train.shape[1], no_of_features)))\n",
    "model.add(Dropout(0.1))\n",
    "\n",
    "model.add(LSTM(units = 2*in_days, return_sequences = True, input_shape = (x_train.shape[1], no_of_features)))\n",
    "model.add(Dropout(0.1))\n",
    "\n",
    "# model.add(LSTM(units = in_days, return_sequences = True, input_shape = (x_train.shape[1], no_of_features)))\n",
    "# model.add(Dropout(0.2))\n",
    "\n",
    "model.add(LSTM(units = 10))\n",
    "model.add(Dropout(0.1))\n",
    "\n",
    "model.add(Dense(1, activation='relu'))\n"
   ]
  },
  {
   "cell_type": "code",
   "execution_count": 428,
   "id": "a10320e8",
   "metadata": {},
   "outputs": [
    {
     "name": "stdout",
     "output_type": "stream",
     "text": [
      "Epoch 1/60\n",
      "5/5 [==============================] - 13s 1s/step - loss: 37636152.0000\n",
      "Epoch 2/60\n",
      "5/5 [==============================] - 9s 2s/step - loss: 37626800.0000\n",
      "Epoch 3/60\n",
      "5/5 [==============================] - 9s 2s/step - loss: 37618212.0000\n",
      "Epoch 4/60\n",
      "5/5 [==============================] - 9s 2s/step - loss: 37612576.0000\n",
      "Epoch 5/60\n",
      "5/5 [==============================] - 6s 927ms/step - loss: 37608252.0000\n",
      "Epoch 6/60\n",
      "5/5 [==============================] - 9s 2s/step - loss: 37604424.0000\n",
      "Epoch 7/60\n",
      "5/5 [==============================] - 10s 2s/step - loss: 37601304.0000\n",
      "Epoch 8/60\n",
      "5/5 [==============================] - 10s 2s/step - loss: 37598832.0000\n",
      "Epoch 9/60\n",
      "5/5 [==============================] - 9s 2s/step - loss: 37596964.0000\n",
      "Epoch 10/60\n",
      "5/5 [==============================] - 6s 991ms/step - loss: 37595500.0000\n",
      "Epoch 11/60\n",
      "5/5 [==============================] - 6s 1s/step - loss: 37594300.0000\n",
      "Epoch 12/60\n",
      "5/5 [==============================] - 6s 1s/step - loss: 37593232.0000\n",
      "Epoch 13/60\n",
      "5/5 [==============================] - 8s 2s/step - loss: 37592392.0000\n",
      "Epoch 14/60\n",
      "5/5 [==============================] - 9s 2s/step - loss: 37591468.0000\n",
      "Epoch 15/60\n",
      "5/5 [==============================] - 9s 2s/step - loss: 37590640.0000\n",
      "Epoch 16/60\n",
      "5/5 [==============================] - 6s 1s/step - loss: 37589784.0000\n",
      "Epoch 17/60\n",
      "5/5 [==============================] - 9s 2s/step - loss: 37589128.0000\n",
      "Epoch 18/60\n",
      "5/5 [==============================] - 10s 2s/step - loss: 37588360.0000\n",
      "Epoch 19/60\n",
      "5/5 [==============================] - 9s 2s/step - loss: 37587552.0000\n",
      "Epoch 20/60\n",
      "5/5 [==============================] - 9s 2s/step - loss: 37586876.0000\n",
      "Epoch 21/60\n",
      "5/5 [==============================] - 10s 2s/step - loss: 37586196.0000\n",
      "Epoch 22/60\n",
      "5/5 [==============================] - 11s 2s/step - loss: 37585472.0000\n",
      "Epoch 23/60\n",
      "5/5 [==============================] - 7s 1s/step - loss: 37584732.0000\n",
      "Epoch 24/60\n",
      "5/5 [==============================] - 6s 1s/step - loss: 37584004.0000\n",
      "Epoch 25/60\n",
      "5/5 [==============================] - 6s 1s/step - loss: 37583304.0000\n",
      "Epoch 26/60\n",
      "5/5 [==============================] - 6s 1s/step - loss: 37582612.0000\n",
      "Epoch 27/60\n",
      "5/5 [==============================] - 7s 1s/step - loss: 37582008.0000\n",
      "Epoch 28/60\n",
      "5/5 [==============================] - 10s 2s/step - loss: 37581236.0000\n",
      "Epoch 29/60\n",
      "5/5 [==============================] - 10s 2s/step - loss: 37580656.0000\n",
      "Epoch 30/60\n",
      "5/5 [==============================] - 9s 2s/step - loss: 37579884.0000\n",
      "Epoch 31/60\n",
      "5/5 [==============================] - 10s 2s/step - loss: 37579308.0000\n",
      "Epoch 32/60\n",
      "5/5 [==============================] - 9s 2s/step - loss: 37578608.0000\n",
      "Epoch 33/60\n",
      "5/5 [==============================] - 9s 2s/step - loss: 37577964.0000\n",
      "Epoch 34/60\n",
      "5/5 [==============================] - 6s 1s/step - loss: 37577264.0000\n",
      "Epoch 35/60\n",
      "5/5 [==============================] - 8s 2s/step - loss: 37576564.0000\n",
      "Epoch 36/60\n",
      "5/5 [==============================] - 11s 2s/step - loss: 37575872.0000\n",
      "Epoch 37/60\n",
      "5/5 [==============================] - 11s 2s/step - loss: 37575252.0000\n",
      "Epoch 38/60\n",
      "5/5 [==============================] - 9s 2s/step - loss: 37574564.0000\n",
      "Epoch 39/60\n",
      "5/5 [==============================] - 8s 1s/step - loss: 37573916.0000\n",
      "Epoch 40/60\n",
      "5/5 [==============================] - 7s 1s/step - loss: 37573252.0000\n",
      "Epoch 41/60\n",
      "5/5 [==============================] - 7s 1s/step - loss: 37572616.0000\n",
      "Epoch 42/60\n",
      "5/5 [==============================] - 7s 1s/step - loss: 37571956.0000\n",
      "Epoch 43/60\n",
      "5/5 [==============================] - 9s 2s/step - loss: 37571248.0000\n",
      "Epoch 44/60\n",
      "5/5 [==============================] - 7s 1s/step - loss: 37570588.0000\n",
      "Epoch 45/60\n",
      "5/5 [==============================] - 7s 1s/step - loss: 37570040.0000\n",
      "Epoch 46/60\n",
      "5/5 [==============================] - 8s 1s/step - loss: 37569340.0000\n",
      "Epoch 47/60\n",
      "5/5 [==============================] - 6s 1s/step - loss: 37568656.0000\n",
      "Epoch 48/60\n",
      "5/5 [==============================] - 6s 1s/step - loss: 37568048.0000\n",
      "Epoch 49/60\n",
      "5/5 [==============================] - 8s 2s/step - loss: 37567452.0000\n",
      "Epoch 50/60\n",
      "5/5 [==============================] - 9s 2s/step - loss: 37566768.0000\n",
      "Epoch 51/60\n",
      "5/5 [==============================] - 8s 2s/step - loss: 37566096.0000\n",
      "Epoch 52/60\n",
      "5/5 [==============================] - 8s 2s/step - loss: 37565452.0000\n",
      "Epoch 53/60\n",
      "5/5 [==============================] - 9s 2s/step - loss: 37564812.0000\n",
      "Epoch 54/60\n",
      "5/5 [==============================] - 10s 2s/step - loss: 37564124.0000\n",
      "Epoch 55/60\n",
      "5/5 [==============================] - 9s 2s/step - loss: 37563532.0000\n",
      "Epoch 56/60\n",
      "5/5 [==============================] - 9s 2s/step - loss: 37562968.0000\n",
      "Epoch 57/60\n",
      "5/5 [==============================] - 9s 2s/step - loss: 37562152.0000\n",
      "Epoch 58/60\n",
      "5/5 [==============================] - 10s 2s/step - loss: 37561644.0000\n",
      "Epoch 59/60\n",
      "5/5 [==============================] - 10s 2s/step - loss: 37560872.0000\n",
      "Epoch 60/60\n",
      "5/5 [==============================] - 7s 1s/step - loss: 37560368.0000\n"
     ]
    },
    {
     "data": {
      "text/plain": [
       "<keras.callbacks.History at 0x25e15842160>"
      ]
     },
     "execution_count": 428,
     "metadata": {},
     "output_type": "execute_result"
    }
   ],
   "source": [
    "model.compile(optimizer = 'adam', loss = 'mean_squared_error')\n",
    "model.fit(x_train, y_train, epochs =60, batch_size = 3500)"
   ]
  },
  {
   "cell_type": "code",
   "execution_count": null,
   "id": "4f522bc1",
   "metadata": {},
   "outputs": [],
   "source": []
  },
  {
   "cell_type": "code",
   "execution_count": null,
   "id": "5b1769c3",
   "metadata": {},
   "outputs": [],
   "source": []
  },
  {
   "cell_type": "code",
   "execution_count": 429,
   "id": "caeb9538",
   "metadata": {},
   "outputs": [
    {
     "data": {
      "text/plain": [
       "(20166, 4)"
      ]
     },
     "execution_count": 429,
     "metadata": {},
     "output_type": "execute_result"
    }
   ],
   "source": [
    "scaled_data.shape"
   ]
  },
  {
   "cell_type": "code",
   "execution_count": 430,
   "id": "388df850",
   "metadata": {},
   "outputs": [
    {
     "data": {
      "text/plain": [
       "(15085,)"
      ]
     },
     "execution_count": 430,
     "metadata": {},
     "output_type": "execute_result"
    }
   ],
   "source": [
    "y_train.shape"
   ]
  },
  {
   "cell_type": "code",
   "execution_count": 431,
   "id": "fa794692",
   "metadata": {},
   "outputs": [],
   "source": [
    "#Test data set\n",
    "test_data = scaled_data[fraction-1: , : ]\n",
    "#splitting the x_test and y_test data sets\n",
    "x_test = []\n",
    "y_test = df['sm'].to_numpy()[fraction+in_days-1 : ]\n",
    "for i in range(in_days,len(test_data)):\n",
    "    x_test.append(test_data[i-in_days:i,input_fetaure_index])\n",
    "    \n",
    "x_test = np.array(x_test)\n",
    "\n",
    "x_test = np.reshape(x_test, (x_test.shape[0],x_test.shape[1],no_of_features))\n",
    "\n"
   ]
  },
  {
   "cell_type": "code",
   "execution_count": 432,
   "id": "d5b0eb80",
   "metadata": {},
   "outputs": [
    {
     "data": {
      "text/plain": [
       "(5002, 40, 4)"
      ]
     },
     "execution_count": 432,
     "metadata": {},
     "output_type": "execute_result"
    }
   ],
   "source": [
    "ar = x_test\n",
    "ar.shape"
   ]
  },
  {
   "cell_type": "code",
   "execution_count": 433,
   "id": "55c54564",
   "metadata": {},
   "outputs": [
    {
     "data": {
      "text/plain": [
       "array([[[  1.67,  37.43,  28.9 , 469.  ],\n",
       "        [  1.67,  37.43,  29.23, 469.  ],\n",
       "        [  1.67,  37.43,  29.35, 468.  ],\n",
       "        ...,\n",
       "        [  1.11,  36.32,  17.69, 466.  ],\n",
       "        [  1.67,  36.32,  17.04, 466.  ],\n",
       "        [  1.67,  36.32,  16.96, 466.  ]],\n",
       "\n",
       "       [[  1.67,  37.43,  29.23, 469.  ],\n",
       "        [  1.67,  37.43,  29.35, 468.  ],\n",
       "        [  1.67,  37.43,  29.65, 468.  ],\n",
       "        ...,\n",
       "        [  1.67,  36.32,  17.04, 466.  ],\n",
       "        [  1.67,  36.32,  16.96, 466.  ],\n",
       "        [  1.67,  36.32,  17.18, 466.  ]],\n",
       "\n",
       "       [[  1.67,  37.43,  29.35, 468.  ],\n",
       "        [  1.67,  37.43,  29.65, 468.  ],\n",
       "        [  1.67,  37.43,  29.56, 468.  ],\n",
       "        ...,\n",
       "        [  1.67,  36.32,  16.96, 466.  ],\n",
       "        [  1.67,  36.32,  17.18, 466.  ],\n",
       "        [  1.67,  36.88,  17.22, 465.  ]],\n",
       "\n",
       "       ...,\n",
       "\n",
       "       [[  1.11,  27.38,  35.63, 327.  ],\n",
       "        [  1.11,  27.38,  35.49, 327.  ],\n",
       "        [  1.11,  27.38,  35.02, 328.  ],\n",
       "        ...,\n",
       "        [  1.11,  27.38,  24.7 , 326.  ],\n",
       "        [  1.11,  27.38,  27.04, 327.  ],\n",
       "        [  1.11,  27.38,  28.53, 327.  ]],\n",
       "\n",
       "       [[  1.11,  27.38,  35.49, 327.  ],\n",
       "        [  1.11,  27.38,  35.02, 328.  ],\n",
       "        [  1.67,  27.93,  34.18, 329.  ],\n",
       "        ...,\n",
       "        [  1.11,  27.38,  27.04, 327.  ],\n",
       "        [  1.11,  27.38,  28.53, 327.  ],\n",
       "        [  1.11,  27.38,  30.07, 327.  ]],\n",
       "\n",
       "       [[  1.11,  27.38,  35.02, 328.  ],\n",
       "        [  1.67,  27.93,  34.18, 329.  ],\n",
       "        [  1.67,  27.93,  31.79, 327.  ],\n",
       "        ...,\n",
       "        [  1.11,  27.38,  28.53, 327.  ],\n",
       "        [  1.11,  27.38,  30.07, 327.  ],\n",
       "        [  1.67,  27.93,  31.55, 327.  ]]])"
      ]
     },
     "execution_count": 433,
     "metadata": {},
     "output_type": "execute_result"
    }
   ],
   "source": [
    "x_test"
   ]
  },
  {
   "cell_type": "code",
   "execution_count": null,
   "id": "3e74089e",
   "metadata": {},
   "outputs": [],
   "source": []
  },
  {
   "cell_type": "code",
   "execution_count": 434,
   "id": "6592573d",
   "metadata": {},
   "outputs": [
    {
     "data": {
      "text/plain": [
       "array([[  1.67,  37.43,  28.9 , 469.  ],\n",
       "       [  1.67,  37.43,  29.23, 469.  ],\n",
       "       [  1.67,  37.43,  29.35, 468.  ],\n",
       "       ...,\n",
       "       [  1.11,  27.38,  30.07, 327.  ],\n",
       "       [  1.67,  27.93,  31.55, 327.  ],\n",
       "       [  1.67,  27.93,  32.68, 328.  ]])"
      ]
     },
     "execution_count": 434,
     "metadata": {},
     "output_type": "execute_result"
    }
   ],
   "source": [
    "scaled_data[fraction-1:]"
   ]
  },
  {
   "cell_type": "code",
   "execution_count": 435,
   "id": "3e1aa019",
   "metadata": {},
   "outputs": [
    {
     "name": "stdout",
     "output_type": "stream",
     "text": [
      "472/472 [==============================] - 9s 15ms/step\n"
     ]
    },
    {
     "ename": "ValueError",
     "evalue": "all the input array dimensions for the concatenation axis must match exactly, but along dimension 0, the array at index 0 has size 5002 and the array at index 1 has size 15085",
     "output_type": "error",
     "traceback": [
      "\u001b[1;31m---------------------------------------------------------------------------\u001b[0m",
      "\u001b[1;31mValueError\u001b[0m                                Traceback (most recent call last)",
      "\u001b[1;32m~\\AppData\\Local\\Temp\\ipykernel_22152\\4103977359.py\u001b[0m in \u001b[0;36m<module>\u001b[1;34m\u001b[0m\n\u001b[0;32m      3\u001b[0m \u001b[1;31m# temp = df.values\u001b[0m\u001b[1;33m\u001b[0m\u001b[1;33m\u001b[0m\u001b[0m\n\u001b[0;32m      4\u001b[0m \u001b[1;31m# predictions = np.concatenate((temp[len(df_2)-len(predictions):, :target_index],predictions, temp[len(df_2)-len(predictions):, target_index+1:]), axis=1)\u001b[0m\u001b[1;33m\u001b[0m\u001b[1;33m\u001b[0m\u001b[0m\n\u001b[1;32m----> 5\u001b[1;33m \u001b[0mpred\u001b[0m \u001b[1;33m=\u001b[0m \u001b[0mnp\u001b[0m\u001b[1;33m.\u001b[0m\u001b[0mconcatenate\u001b[0m\u001b[1;33m(\u001b[0m\u001b[1;33m(\u001b[0m\u001b[0mtemp\u001b[0m\u001b[1;33m[\u001b[0m\u001b[0mfraction\u001b[0m\u001b[1;33m+\u001b[0m\u001b[0min_days\u001b[0m\u001b[1;33m-\u001b[0m\u001b[1;36m1\u001b[0m\u001b[1;33m:\u001b[0m\u001b[1;33m,\u001b[0m\u001b[1;33m:\u001b[0m\u001b[1;33m-\u001b[0m\u001b[1;36m1\u001b[0m\u001b[1;33m]\u001b[0m\u001b[1;33m,\u001b[0m\u001b[0mpredictions\u001b[0m\u001b[1;33m)\u001b[0m\u001b[1;33m,\u001b[0m\u001b[0maxis\u001b[0m\u001b[1;33m=\u001b[0m\u001b[1;36m1\u001b[0m\u001b[1;33m)\u001b[0m\u001b[1;33m\u001b[0m\u001b[1;33m\u001b[0m\u001b[0m\n\u001b[0m\u001b[0;32m      6\u001b[0m \u001b[0mpredictions\u001b[0m \u001b[1;33m=\u001b[0m \u001b[0mscaler\u001b[0m\u001b[1;33m.\u001b[0m\u001b[0minverse_transform\u001b[0m\u001b[1;33m(\u001b[0m\u001b[0mpred\u001b[0m\u001b[1;33m)\u001b[0m\u001b[1;33m\u001b[0m\u001b[1;33m\u001b[0m\u001b[0m\n\u001b[0;32m      7\u001b[0m \u001b[0mpredictions\u001b[0m \u001b[1;33m=\u001b[0m \u001b[0mpredictions\u001b[0m\u001b[1;33m[\u001b[0m\u001b[1;33m:\u001b[0m\u001b[1;33m,\u001b[0m \u001b[0mtarget_index\u001b[0m\u001b[1;33m]\u001b[0m\u001b[1;33m\u001b[0m\u001b[1;33m\u001b[0m\u001b[0m\n",
      "\u001b[1;32m<__array_function__ internals>\u001b[0m in \u001b[0;36mconcatenate\u001b[1;34m(*args, **kwargs)\u001b[0m\n",
      "\u001b[1;31mValueError\u001b[0m: all the input array dimensions for the concatenation axis must match exactly, but along dimension 0, the array at index 0 has size 5002 and the array at index 1 has size 15085"
     ]
    }
   ],
   "source": [
    "\n",
    "predictions = model.predict(x_train)\n",
    "\n",
    "# temp = df.values\n",
    "# predictions = np.concatenate((temp[len(df_2)-len(predictions):, :target_index],predictions, temp[len(df_2)-len(predictions):, target_index+1:]), axis=1)\n",
    "pred = np.concatenate((temp[fraction+in_days-1:,:-1],predictions),axis=1)\n",
    "predictions = scaler.inverse_transform(pred)\n",
    "predictions = predictions[:, target_index]"
   ]
  },
  {
   "cell_type": "code",
   "execution_count": null,
   "id": "60190a93",
   "metadata": {},
   "outputs": [],
   "source": [
    "predictions"
   ]
  },
  {
   "cell_type": "code",
   "execution_count": null,
   "id": "6a0c04fe",
   "metadata": {},
   "outputs": [],
   "source": [
    "y_test"
   ]
  },
  {
   "cell_type": "code",
   "execution_count": 2,
   "id": "b1c54ece",
   "metadata": {},
   "outputs": [],
   "source": [
    "# LSTM \n",
    "\n",
    "\n",
    "from sklearn.preprocessing import MinMaxScaler\n",
    "from keras.models import Sequential\n",
    "from keras.layers import Dense, LSTM\n",
    "\n",
    "input_fetaure_index=[2,4,5]\n",
    "no_of_features= len(input_fetaure_index)\n",
    "target_index = 4\n",
    "in_days=20\n"
   ]
  },
  {
   "cell_type": "code",
   "execution_count": null,
   "id": "d9b5c988",
   "metadata": {},
   "outputs": [],
   "source": []
  }
 ],
 "metadata": {
  "kernelspec": {
   "display_name": "Python 3 (ipykernel)",
   "language": "python",
   "name": "python3"
  },
  "language_info": {
   "codemirror_mode": {
    "name": "ipython",
    "version": 3
   },
   "file_extension": ".py",
   "mimetype": "text/x-python",
   "name": "python",
   "nbconvert_exporter": "python",
   "pygments_lexer": "ipython3",
   "version": "3.9.13"
  }
 },
 "nbformat": 4,
 "nbformat_minor": 5
}
